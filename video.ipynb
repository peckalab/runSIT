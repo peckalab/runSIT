{
 "cells": [
  {
   "cell_type": "code",
   "execution_count": 1,
   "metadata": {},
   "outputs": [],
   "source": [
    "import numpy as np\n",
    "import cv2\n",
    "import threading\n",
    "import time\n",
    "import matplotlib.pyplot as plt"
   ]
  },
  {
   "cell_type": "code",
   "execution_count": 8,
   "metadata": {},
   "outputs": [],
   "source": [
    "class WebcamVideoStream:\n",
    "    \n",
    "    def __init__(self, src=0, api=None):\n",
    "        self.stream = cv2.VideoCapture(src, api) if api else cv2.VideoCapture(src)\n",
    "        \n",
    "        #self.stream.set(cv2.CAP_PROP_FRAME_WIDTH, 640)\n",
    "        #self.stream.set(cv2.CAP_PROP_FRAME_HEIGHT, 480)\n",
    "        self.stream.set(cv2.CAP_PROP_FOURCC, cv2.VideoWriter_fourcc('M', 'J', 'P', 'G'))\n",
    "        #self.stream.set(cv2.CAP_PROP_FPS, 30)\n",
    "        #print(self.stream.get(cv2.CAP_PROP_FPS))\n",
    "        \n",
    "        self.frame = None\n",
    "        self.stopped = False\n",
    "        self.frame_counter = []\n",
    "        \n",
    "    def start(self):\n",
    "        threading.Thread(target=self.update, args=()).start()\n",
    "        return self\n",
    "\n",
    "    def stop(self):\n",
    "        self.stopped = True\n",
    "        self.stream.release()\n",
    "        \n",
    "    def update(self):\n",
    "        while not self.stopped:\n",
    "            (self.grabbed, self.frame) = self.stream.read()\n",
    "            self.frame_counter.append(time.time())\n",
    "            \n",
    "    def read(self):\n",
    "        return self.frame\n",
    "\n",
    "    def get_frame_diffs(self):\n",
    "        return 1.0/np.diff(np.array(self.frame_counter))\n",
    "        \n",
    "    def get_avg_fps(self):\n",
    "        return self.get_frame_diffs().mean()"
   ]
  },
  {
   "cell_type": "code",
   "execution_count": 9,
   "metadata": {},
   "outputs": [],
   "source": [
    "class VideoWriter:\n",
    "    \n",
    "    def __init__(self, vs):\n",
    "        self.fps = 20.0\n",
    "        self.vs = vs\n",
    "        self.stopped = False\n",
    "        self.frame_counter = []\n",
    "        \n",
    "        fourcc = cv2.VideoWriter_fourcc(*'XVID')\n",
    "        self.out = cv2.VideoWriter('test_video.avi', fourcc, self.fps, (int(vs.stream.get(3)), int(vs.stream.get(4))))\n",
    "        \n",
    "    def start(self):\n",
    "        self.t_start = time.time()\n",
    "        threading.Thread(target=self.update, args=()).start()\n",
    "        return self\n",
    "    \n",
    "    def stop(self):\n",
    "        self.stopped = True\n",
    "        \n",
    "    def update(self):\n",
    "        while not self.stopped:\n",
    "            if time.time() < self.t_start + 1./self.fps * float(len(self.frame_counter)):\n",
    "                continue\n",
    "\n",
    "            frame = self.vs.read()\n",
    "            if frame is not None:\n",
    "                self.out.write(frame)\n",
    "                self.frame_counter.append(time.time())\n",
    "                \n",
    "    def get_frame_diffs(self):\n",
    "        return 1.0/np.diff(np.array(self.frame_counter))\n",
    "        \n",
    "    def get_avg_fps(self):\n",
    "        return self.get_frame_diffs().mean()                "
   ]
  },
  {
   "cell_type": "code",
   "execution_count": null,
   "metadata": {
    "scrolled": true
   },
   "outputs": [
    {
     "name": "stderr",
     "output_type": "stream",
     "text": [
      "Exception in thread Thread-8:\n",
      "Traceback (most recent call last):\n",
      "  File \"C:\\Users\\inhibition\\.conda\\envs\\runsit\\lib\\threading.py\", line 932, in _bootstrap_inner\n",
      "    self.run()\n",
      "  File \"C:\\Users\\inhibition\\.conda\\envs\\runsit\\lib\\threading.py\", line 870, in run\n",
      "    self._target(*self._args, **self._kwargs)\n",
      "  File \"<ipython-input-8-6f1a9fb9d68b>\", line 27, in update\n",
      "MemoryError\n"
     ]
    }
   ],
   "source": [
    "vs = WebcamVideoStream(src=0, api=cv2.CAP_OPENCV_MJPEG)  # for IR usb camera api=cv2.CAP_DSHOW\n",
    "#vs = WebcamVideoStream(src=0)\n",
    "vs.start()\n",
    "\n",
    "#vw = VideoWriter(vs)\n",
    "#vw.start()\n",
    "\n",
    "try:\n",
    "    while True:\n",
    "        frame = vs.read()\n",
    "        if frame is not None:\n",
    "            cv2.imshow(\"Frame\", frame)\n",
    "\n",
    "        k = cv2.waitKey(33)\n",
    "        if k == ord('q'):\n",
    "            break\n",
    "finally:\n",
    "    cv2.destroyAllWindows()\n",
    "    #vw.stop()\n",
    "    vs.stop()"
   ]
  },
  {
   "cell_type": "code",
   "execution_count": 7,
   "metadata": {},
   "outputs": [],
   "source": [
    "vs.stop()"
   ]
  },
  {
   "cell_type": "code",
   "execution_count": 6,
   "metadata": {},
   "outputs": [
    {
     "name": "stderr",
     "output_type": "stream",
     "text": [
      "<ipython-input-2-3fced249b0a8>:33: RuntimeWarning: divide by zero encountered in true_divide\n",
      "  return 1.0/np.diff(np.array(self.frame_counter))\n"
     ]
    },
    {
     "data": {
      "text/plain": [
       "inf"
      ]
     },
     "execution_count": 6,
     "metadata": {},
     "output_type": "execute_result"
    }
   ],
   "source": [
    "vs.get_avg_fps()"
   ]
  },
  {
   "cell_type": "code",
   "execution_count": 25,
   "metadata": {},
   "outputs": [
    {
     "data": {
      "image/png": "[encoded data removed]",
      "text/plain": [
       "<Figure size 432x288 with 1 Axes>"
      ]
     },
     "metadata": {
      "needs_background": "light"
     },
     "output_type": "display_data"
    }
   ],
   "source": [
    "_ = plt.hist(vs.get_frame_diffs(), 50)"
   ]
  },
  {
   "cell_type": "code",
   "execution_count": 26,
   "metadata": {},
   "outputs": [
    {
     "data": {
      "text/plain": [
       "[<matplotlib.lines.Line2D at 0x8a358b0>]"
      ]
     },
     "execution_count": 26,
     "metadata": {},
     "output_type": "execute_result"
    },
    {
     "data": {
      "image/png": "[encoded data removed]",
      "text/plain": [
       "<Figure size 432x288 with 1 Axes>"
      ]
     },
     "metadata": {
      "needs_background": "light"
     },
     "output_type": "display_data"
    }
   ],
   "source": [
    "plt.plot(vs.get_frame_diffs())"
   ]
  },
  {
   "cell_type": "code",
   "execution_count": null,
   "metadata": {},
   "outputs": [],
   "source": []
  }
 ],
 "metadata": {
  "kernelspec": {
   "display_name": "Python 3",
   "language": "python",
   "name": "python3"
  },
  "language_info": {
   "codemirror_mode": {
    "name": "ipython",
    "version": 3
   },
   "file_extension": ".py",
   "mimetype": "text/x-python",
   "name": "python",
   "nbconvert_exporter": "python",
   "pygments_lexer": "ipython3",
   "version": "3.8.8"
  }
 },
 "nbformat": 4,
 "nbformat_minor": 4
}
