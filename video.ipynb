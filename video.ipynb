{
 "cells": [
  {
   "cell_type": "code",
   "execution_count": 1,
   "metadata": {},
   "outputs": [],
   "source": [
    "import numpy as np\n",
    "import cv2\n",
    "import threading\n",
    "import time\n",
    "import matplotlib.pyplot as plt"
   ]
  },
  {
   "cell_type": "code",
   "execution_count": 2,
   "metadata": {},
   "outputs": [],
   "source": [
    "BGR_COLOR = {\n",
    "    'red': (0,0,255),\n",
    "    'green': (127,255,0),\n",
    "    'blue': (255,127,0),\n",
    "    'yellow': (0,127,255),\n",
    "    'black': (0,0,0),\n",
    "    'white': (255,255,255)\n",
    "}"
   ]
  },
  {
   "cell_type": "code",
   "execution_count": 3,
   "metadata": {},
   "outputs": [],
   "source": [
    "class WebcamVideoStream:\n",
    "    \n",
    "    def __init__(self, src=0, api=None):\n",
    "        self.stream = cv2.VideoCapture(src, api) if api else cv2.VideoCapture(src)\n",
    "        \n",
    "        self.stream.set(cv2.CAP_PROP_FOURCC, cv2.VideoWriter_fourcc('M', 'J', 'P', 'G'))\n",
    "        self.stream.set(cv2.CAP_PROP_FRAME_WIDTH, 1024)\n",
    "        self.stream.set(cv2.CAP_PROP_FRAME_HEIGHT, 768)\n",
    "        self.stream.set(cv2.CAP_PROP_FPS, 20)\n",
    "        self.stream.set(cv2.CAP_PROP_FOURCC, cv2.VideoWriter_fourcc('M', 'J', 'P', 'G'))\n",
    "        #self.stream.set(cv2.CAP_PROP_FOURCC, cv2.VideoWriter_fourcc('H', '2', '6', '4'))\n",
    "                \n",
    "        print(\"W:H - %s:%s\" % (self.stream.get(cv2.CAP_PROP_FRAME_WIDTH), self.stream.get(cv2.CAP_PROP_FRAME_HEIGHT)))\n",
    "        print(\"FPS: %s\" % self.stream.get(cv2.CAP_PROP_FPS))\n",
    "        print(self.stream.get(cv2.CAP_PROP_FOURCC))\n",
    "        print(self.stream.get(cv2.CAP_PROP_BACKEND))\n",
    "        \n",
    "        self.frame = None\n",
    "        self.stopped = False\n",
    "        self.frame_counter = []\n",
    "        \n",
    "    def start(self):\n",
    "        threading.Thread(target=self.update, args=()).start()\n",
    "        return self\n",
    "\n",
    "    def stop(self):\n",
    "        self.stopped = True\n",
    "        self.stream.release()\n",
    "        \n",
    "    def update(self):\n",
    "        while not self.stopped:\n",
    "            (self.grabbed, self.frame) = self.stream.read()\n",
    "            self.frame_counter.append(time.time())\n",
    "            \n",
    "    def read(self):\n",
    "        return self.frame\n",
    "\n",
    "    def get_frame_diffs(self):\n",
    "        return 1.0/np.diff(np.array(self.frame_counter))\n",
    "        \n",
    "    def get_avg_fps(self):\n",
    "        return self.get_frame_diffs().mean()"
   ]
  },
  {
   "cell_type": "code",
   "execution_count": 4,
   "metadata": {},
   "outputs": [],
   "source": [
    "class VideoWriter:\n",
    "    \n",
    "    def __init__(self, vs):\n",
    "        self.fps = 20.0\n",
    "        self.vs = vs\n",
    "        self.stopped = False\n",
    "        self.frame_counter = []\n",
    "        \n",
    "        fourcc = cv2.VideoWriter_fourcc(*'XVID')\n",
    "        self.out = cv2.VideoWriter('test_video.avi', fourcc, self.fps, (int(vs.stream.get(3)), int(vs.stream.get(4))))\n",
    "        \n",
    "    def start(self):\n",
    "        self.t_start = time.time()\n",
    "        threading.Thread(target=self.update, args=()).start()\n",
    "        return self\n",
    "    \n",
    "    def stop(self):\n",
    "        self.stopped = True\n",
    "        self.out.release()\n",
    "        \n",
    "    def update(self):\n",
    "        while not self.stopped:\n",
    "            if time.time() < self.t_start + 1./self.fps * float(len(self.frame_counter)):\n",
    "                continue\n",
    "\n",
    "            frame = self.vs.read()\n",
    "            if frame is not None:\n",
    "                self.out.write(frame)\n",
    "                self.frame_counter.append(time.time())\n",
    "                if len(self.frame_counter) == 1:\n",
    "                    self.t_start = self.frame_counter[0]\n",
    "                \n",
    "    def get_frame_diffs(self):\n",
    "        return 1.0/np.diff(np.array(self.frame_counter))\n",
    "        \n",
    "    def get_avg_fps(self):\n",
    "        return self.get_frame_diffs().mean()                "
   ]
  },
  {
   "cell_type": "code",
   "execution_count": 5,
   "metadata": {},
   "outputs": [],
   "source": [
    "class PositionTracker:\n",
    "    \n",
    "    def __init__(self, video_streamer, background_file='background.png'):\n",
    "        self.video_streamer = video_streamer\n",
    "        self.background = cv2.imread(background_file, 1)\n",
    "        self.fps = 20.0\n",
    "        self.x, self.y = None, None\n",
    "        self.contour = []\n",
    "        self.stopped = False\n",
    "        self.frame_counter = []\n",
    "        \n",
    "        self.mask = np.zeros(shape=self.background.shape, dtype=\"uint8\")\n",
    "        cv2.circle(self.mask, (512, 384), 350, BGR_COLOR['white'], -1)\n",
    "        \n",
    "    def start(self):\n",
    "        self.t_start = time.time()\n",
    "        threading.Thread(target=self.update, args=()).start()\n",
    "        return self\n",
    "    \n",
    "    def stop(self):\n",
    "        self.stopped = True\n",
    "        \n",
    "    def update(self):\n",
    "        while not self.stopped:\n",
    "            if time.time() < self.t_start + 1./self.fps * float(len(self.frame_counter)):\n",
    "                continue\n",
    "\n",
    "            frame = self.video_streamer.read()\n",
    "            if frame is not None:\n",
    "                self.detect_position(frame)\n",
    "                self.frame_counter.append(time.time())\n",
    "                if len(self.frame_counter) == 1:\n",
    "                    self.t_start = self.frame_counter[0]\n",
    "                \n",
    "    def get_frame_diffs(self):\n",
    "        return 1.0/np.diff(np.array(self.frame_counter))\n",
    "        \n",
    "    def get_avg_fps(self):\n",
    "        return self.get_frame_diffs().mean()          \n",
    "       \n",
    "    def detect_position(self, frame):\n",
    "        masked_frame = cv2.bitwise_and(src1=frame, src2=self.mask)\n",
    "\n",
    "        # Substracts background from current frame\n",
    "        subject = cv2.subtract(masked_frame, self.background)\n",
    "\n",
    "        # Converts subject to grey scale\n",
    "        subject_gray = cv2.cvtColor(subject, cv2.COLOR_BGR2GRAY)\n",
    "\n",
    "        # Applies blur and thresholding to the subject\n",
    "        kernel_size = (25,25)\n",
    "        frame_blur = cv2.GaussianBlur(subject_gray, kernel_size, 0)\n",
    "        _, thresh = cv2.threshold(frame_blur, 40, 255, cv2.THRESH_BINARY)\n",
    "\n",
    "        # Finds contours and selects the contour with the largest area\n",
    "        contours, hierarchy = cv2.findContours(thresh.copy(), cv2.RETR_TREE, cv2.CHAIN_APPROX_NONE)\n",
    "\n",
    "        if len(contours) == 0:\n",
    "            return\n",
    "        contour = contours[np.argmax(list(map(cv2.contourArea, contours)))]\n",
    "        M = cv2.moments(contour)\n",
    "        if (M['m00'] == 0):\n",
    "            return\n",
    "\n",
    "        self.x = int(M['m10'] / M['m00'])\n",
    "        self.y = int(M['m01'] / M['m00'])\n",
    "        self.contour = contour"
   ]
  },
  {
   "cell_type": "code",
   "execution_count": 6,
   "metadata": {},
   "outputs": [],
   "source": [
    "# check camera output formats with FFMPEG\n",
    "# https://stackoverflow.com/questions/15301608/how-to-query-a-webcams-output-formats\n",
    "#\n",
    "# ffmpeg -list_devices true -f dshow -i dummy\n",
    "# ffmpeg -list_options true -f dshow -i video=\"HD USB Camera\""
   ]
  },
  {
   "cell_type": "code",
   "execution_count": 11,
   "metadata": {
    "scrolled": false
   },
   "outputs": [
    {
     "name": "stdout",
     "output_type": "stream",
     "text": [
      "W:H - 1024.0:768.0\n",
      "FPS: 20.0\n",
      "1196444237.0\n",
      "700.0\n"
     ]
    }
   ],
   "source": [
    "# https://stackoverflow.com/questions/39308664/opencv-cant-set-mjpg-compression-for-usb-camera\n",
    "del vs\n",
    "del vw\n",
    "del pt\n",
    "\n",
    "vs = WebcamVideoStream(src=0, api=cv2.CAP_DSHOW)  # for IR usb camera api=cv2.CAP_DSHOW\n",
    "vs.start()\n",
    "\n",
    "vw = VideoWriter(vs)\n",
    "vw.start()\n",
    "\n",
    "pt = PositionTracker(vs)\n",
    "pt.start()\n",
    "\n",
    "try:\n",
    "    while True:\n",
    "        time.sleep(0.05)\n",
    "        frame = vs.read()\n",
    "        if frame is not None:\n",
    "            if pt.x is not None:\n",
    "                frame = cv2.circle(frame, (pt.x, pt.y), 3, BGR_COLOR['yellow'], -1)\n",
    "            cv2.imshow(\"Frame\", frame)\n",
    "\n",
    "        k = cv2.waitKey(33)\n",
    "        if k == ord('q'):\n",
    "            break\n",
    "finally:\n",
    "    cv2.destroyAllWindows()\n",
    "    pt.stop()\n",
    "    vw.stop()\n",
    "    vs.stop()"
   ]
  },
  {
   "cell_type": "code",
   "execution_count": 12,
   "metadata": {},
   "outputs": [
    {
     "data": {
      "text/plain": [
       "(20.454321445333584, 20.074599414918435, 22.790910551179692)"
      ]
     },
     "execution_count": 12,
     "metadata": {},
     "output_type": "execute_result"
    }
   ],
   "source": [
    "vs.get_avg_fps(), vw.get_avg_fps(), pt.get_avg_fps()"
   ]
  },
  {
   "cell_type": "code",
   "execution_count": 13,
   "metadata": {},
   "outputs": [
    {
     "data": {
      "image/png": "[encoded data removed]",
      "text/plain": [
       "<Figure size 432x288 with 1 Axes>"
      ]
     },
     "metadata": {
      "needs_background": "light"
     },
     "output_type": "display_data"
    }
   ],
   "source": [
    "_ = plt.hist(pt.get_frame_diffs(), 50)"
   ]
  },
  {
   "cell_type": "code",
   "execution_count": 15,
   "metadata": {},
   "outputs": [
    {
     "data": {
      "text/plain": [
       "[<matplotlib.lines.Line2D at 0x8aadee0>]"
      ]
     },
     "execution_count": 15,
     "metadata": {},
     "output_type": "execute_result"
    },
    {
     "data": {
      "image/png": "[encoded data removed]",
      "text/plain": [
       "<Figure size 432x288 with 1 Axes>"
      ]
     },
     "metadata": {
      "needs_background": "light"
     },
     "output_type": "display_data"
    }
   ],
   "source": [
    "plt.plot(pt.get_frame_diffs())"
   ]
  },
  {
   "cell_type": "code",
   "execution_count": null,
   "metadata": {},
   "outputs": [],
   "source": []
  }
 ],
 "metadata": {
  "kernelspec": {
   "display_name": "Python 3",
   "language": "python",
   "name": "python3"
  },
  "language_info": {
   "codemirror_mode": {
    "name": "ipython",
    "version": 3
   },
   "file_extension": ".py",
   "mimetype": "text/x-python",
   "name": "python",
   "nbconvert_exporter": "python",
   "pygments_lexer": "ipython3",
   "version": "3.8.8"
  }
 },
 "nbformat": 4,
 "nbformat_minor": 4
}
