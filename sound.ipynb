{
 "cells": [
  {
   "cell_type": "code",
   "execution_count": null,
   "id": "4b8ede9d",
   "metadata": {},
   "outputs": [],
   "source": [
    "from scipy.io  import wavfile             # WAV-file import filter\n",
    "\n",
    "import numpy as np                        # Import numpy module\n",
    "import sounddevice as sd                  # Import sounddevice module for \"real-time\" sound playback"
   ]
  },
  {
   "cell_type": "code",
   "execution_count": null,
   "id": "fc1520f9",
   "metadata": {},
   "outputs": [],
   "source": [
    "# Set sample rate for audio output\n",
    "sd.default.samplerate = 44100\n",
    "fs = 44100          \n",
    "\n",
    "# Audio stream\n",
    "stream = sd.OutputStream(samplerate=fs, channels=1, dtype='float32')\n",
    "\n",
    "# Cycle counter: sound is played every \"delay_cycles\" cycles (video frames)\n",
    "delay_cycles = 3  \n",
    "\n",
    "# Open sound files\n",
    "sound_foraging = wavfile.read(os.path.join('assets', '6000Hz-short-68.wav'))[1]\n",
    "sound_distractor = wavfile.read(os.path.join('assets', '10kHz-short-68.wav'))[1]\n",
    "sound_target = wavfile.read(os.path.join('assets', '4000Hz-short-68.wav'))[1]\n",
    "sound_silence = wavfile.read(os.path.join('assets', 'silence-short-68.wav'))[1]"
   ]
  },
  {
   "cell_type": "code",
   "execution_count": null,
   "id": "6a8f7f52",
   "metadata": {},
   "outputs": [],
   "source": [
    "            if frameCounter % delayLength == 0:\n",
    "                stream.write((distractorSoundOdd1*ampMod))\n",
    "                soundPlayed = 'true-DistractorOdd1'\n",
    "            else:\n",
    "                stream.write(silenceSound)\n",
    "                soundPlayed = 'false'  "
   ]
  }
 ],
 "metadata": {
  "kernelspec": {
   "display_name": "Python 3",
   "language": "python",
   "name": "python3"
  },
  "language_info": {
   "codemirror_mode": {
    "name": "ipython",
    "version": 3
   },
   "file_extension": ".py",
   "mimetype": "text/x-python",
   "name": "python",
   "nbconvert_exporter": "python",
   "pygments_lexer": "ipython3",
   "version": "3.8.8"
  }
 },
 "nbformat": 4,
 "nbformat_minor": 5
}
