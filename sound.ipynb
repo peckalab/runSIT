{
 "cells": [
  {
   "cell_type": "code",
   "execution_count": 7,
   "id": "73e01b65",
   "metadata": {},
   "outputs": [],
   "source": [
    "from scipy.io  import wavfile             # WAV-file import filter\n",
    "\n",
    "import numpy as np                        # Import numpy module\n",
    "import sounddevice as sd                  # Import sounddevice module for \"real-time\" sound playback\n",
    "import os, time"
   ]
  },
  {
   "cell_type": "code",
   "execution_count": 24,
   "id": "9716c3a5",
   "metadata": {},
   "outputs": [
    {
     "data": {
      "text/plain": [
       "44100"
      ]
     },
     "execution_count": 24,
     "metadata": {},
     "output_type": "execute_result"
    }
   ],
   "source": [
    "sd.default.samplerate"
   ]
  },
  {
   "cell_type": "code",
   "execution_count": 4,
   "id": "949c2fb3",
   "metadata": {
    "scrolled": true
   },
   "outputs": [
    {
     "name": "stderr",
     "output_type": "stream",
     "text": [
      "<ipython-input-4-a2b25e82ec4e>:12: WavFileWarning: Chunk (non-data) not understood, skipping it.\n",
      "  sound_foraging = wavfile.read(os.path.join('assets', '6000Hz-short-68.wav'))[1]\n",
      "<ipython-input-4-a2b25e82ec4e>:13: WavFileWarning: Chunk (non-data) not understood, skipping it.\n",
      "  sound_distractor = wavfile.read(os.path.join('assets', '10kHz-short-68.wav'))[1]\n",
      "<ipython-input-4-a2b25e82ec4e>:14: WavFileWarning: Chunk (non-data) not understood, skipping it.\n",
      "  sound_target = wavfile.read(os.path.join('assets', '4000Hz-short-68.wav'))[1]\n",
      "<ipython-input-4-a2b25e82ec4e>:15: WavFileWarning: Chunk (non-data) not understood, skipping it.\n",
      "  sound_silence = wavfile.read(os.path.join('assets', 'silence-short-68.wav'))[1]\n"
     ]
    }
   ],
   "source": [
    "# Set sample rate for audio output\n",
    "sd.default.samplerate = 44100\n",
    "fs = 44100          \n",
    "\n",
    "# Audio stream\n",
    "stream = sd.OutputStream(samplerate=fs, channels=1, dtype='float32')\n",
    "\n",
    "# Cycle counter: sound is played every \"delay_cycles\" cycles (video frames)\n",
    "delay_cycles = 3  \n",
    "\n",
    "# Open sound files\n",
    "sound_foraging = wavfile.read(os.path.join('assets', '6000Hz-short-68.wav'))[1]\n",
    "sound_distractor = wavfile.read(os.path.join('assets', '10kHz-short-68.wav'))[1]\n",
    "sound_target = wavfile.read(os.path.join('assets', '4000Hz-short-68.wav'))[1]\n",
    "sound_silence = wavfile.read(os.path.join('assets', 'silence-short-68.wav'))[1]"
   ]
  },
  {
   "cell_type": "code",
   "execution_count": 23,
   "id": "cf6f828c",
   "metadata": {},
   "outputs": [
    {
     "name": "stdout",
     "output_type": "stream",
     "text": [
      "0.0\n",
      "0.0\n",
      "0.0\n",
      "0.0\n",
      "0.0\n"
     ]
    }
   ],
   "source": [
    "stream.start()\n",
    "stream.write(sound_foraging)\n",
    "time.sleep(1)\n",
    "\n",
    "for i in range(5):\n",
    "    time.sleep(1)\n",
    "    t1 = time.time()\n",
    "    stream.write(sound_foraging)\n",
    "    t2 = time.time()\n",
    "    print(t2 - t1)\n",
    "\n",
    "    \n",
    "stream.stop()"
   ]
  },
  {
   "cell_type": "code",
   "execution_count": 10,
   "id": "0b061f8a",
   "metadata": {},
   "outputs": [
    {
     "data": {
      "text/plain": [
       "1625132644.6576726"
      ]
     },
     "execution_count": 10,
     "metadata": {},
     "output_type": "execute_result"
    }
   ],
   "source": []
  },
  {
   "cell_type": "code",
   "execution_count": null,
   "id": "8fd68e1e",
   "metadata": {},
   "outputs": [],
   "source": []
  }
 ],
 "metadata": {
  "kernelspec": {
   "display_name": "Python 3",
   "language": "python",
   "name": "python3"
  },
  "language_info": {
   "codemirror_mode": {
    "name": "ipython",
    "version": 3
   },
   "file_extension": ".py",
   "mimetype": "text/x-python",
   "name": "python",
   "nbconvert_exporter": "python",
   "pygments_lexer": "ipython3",
   "version": "3.8.8"
  }
 },
 "nbformat": 4,
 "nbformat_minor": 5
}
