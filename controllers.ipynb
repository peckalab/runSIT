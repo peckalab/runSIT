{
 "cells": [
  {
   "cell_type": "code",
   "execution_count": 49,
   "metadata": {},
   "outputs": [],
   "source": [
    "import numpy as np\n",
    "import cv2\n",
    "import threading\n",
    "import sounddevice as sd\n",
    "import time, os\n",
    "import matplotlib.pyplot as plt"
   ]
  },
  {
   "cell_type": "code",
   "execution_count": 50,
   "metadata": {},
   "outputs": [],
   "source": [
    "BGR_COLOR = {\n",
    "    'red': (0,0,255),\n",
    "    'green': (127,255,0),\n",
    "    'blue': (255,127,0),\n",
    "    'yellow': (0,127,255),\n",
    "    'black': (0,0,0),\n",
    "    'white': (255,255,255)\n",
    "}"
   ]
  },
  {
   "cell_type": "code",
   "execution_count": 51,
   "metadata": {},
   "outputs": [],
   "source": [
    "class WebcamVideoStream:\n",
    "    \n",
    "    def __init__(self, src=0, api=None):\n",
    "        self.stream = cv2.VideoCapture(src, api) if api else cv2.VideoCapture(src)\n",
    "        \n",
    "        self.stream.set(cv2.CAP_PROP_FOURCC, cv2.VideoWriter_fourcc('M', 'J', 'P', 'G'))\n",
    "        self.stream.set(cv2.CAP_PROP_FRAME_WIDTH, 1024)\n",
    "        self.stream.set(cv2.CAP_PROP_FRAME_HEIGHT, 768)\n",
    "        self.stream.set(cv2.CAP_PROP_FPS, 20)\n",
    "        self.stream.set(cv2.CAP_PROP_FOURCC, cv2.VideoWriter_fourcc('M', 'J', 'P', 'G'))\n",
    "        #self.stream.set(cv2.CAP_PROP_FOURCC, cv2.VideoWriter_fourcc('H', '2', '6', '4'))\n",
    "                \n",
    "#         print(\"W:H - %s:%s\" % (self.stream.get(cv2.CAP_PROP_FRAME_WIDTH), self.stream.get(cv2.CAP_PROP_FRAME_HEIGHT)))\n",
    "#         print(\"FPS: %s\" % self.stream.get(cv2.CAP_PROP_FPS))\n",
    "#         print(self.stream.get(cv2.CAP_PROP_FOURCC))\n",
    "#         print(self.stream.get(cv2.CAP_PROP_BACKEND))\n",
    "        \n",
    "        self.frame = None\n",
    "        self.stopped = False\n",
    "        self.frame_counter = []\n",
    "        \n",
    "    def start(self):\n",
    "        th = threading.Thread(target=self.update, args=())\n",
    "        th.start()\n",
    "        return th\n",
    "\n",
    "    def stop(self):\n",
    "        self.stopped = True\n",
    "        \n",
    "    def update(self):\n",
    "        while not self.stopped:\n",
    "            (self.grabbed, self.frame) = self.stream.read()\n",
    "            self.frame_counter.append(time.time())\n",
    "        self.stream.release()\n",
    "            \n",
    "    def read(self):\n",
    "        return self.frame\n",
    "\n",
    "    def get_frame_diffs(self):\n",
    "        return 1.0/np.diff(np.array(self.frame_counter))\n",
    "        \n",
    "    def get_avg_fps(self):\n",
    "        return self.get_frame_diffs().mean()"
   ]
  },
  {
   "cell_type": "code",
   "execution_count": 52,
   "metadata": {},
   "outputs": [],
   "source": [
    "class VideoWriter:\n",
    "    \n",
    "    def __init__(self, vs):\n",
    "        self.fps = 20.0\n",
    "        self.vs = vs\n",
    "        self.stopped = False\n",
    "        self.frame_counter = []\n",
    "        \n",
    "        fourcc = cv2.VideoWriter_fourcc(*'XVID')\n",
    "        self.out = cv2.VideoWriter('test_video.avi', fourcc, self.fps, (int(vs.stream.get(3)), int(vs.stream.get(4))))\n",
    "        \n",
    "    def start(self):\n",
    "        self.t_start = time.time()\n",
    "        th = threading.Thread(target=self.update, args=())\n",
    "        th.start()\n",
    "        return th\n",
    "    \n",
    "    def stop(self):\n",
    "        self.stopped = True\n",
    "        \n",
    "    def update(self):\n",
    "        while not self.stopped:\n",
    "            if time.time() < self.t_start + 1./self.fps * float(len(self.frame_counter)):\n",
    "                continue\n",
    "\n",
    "            frame = self.vs.read()\n",
    "            if frame is not None:\n",
    "                self.out.write(frame)\n",
    "                self.frame_counter.append(time.time())\n",
    "                if len(self.frame_counter) == 1:\n",
    "                    self.t_start = self.frame_counter[0]\n",
    "        self.out.release()\n",
    "        \n",
    "    def get_frame_diffs(self):\n",
    "        return 1.0/np.diff(np.array(self.frame_counter))\n",
    "        \n",
    "    def get_avg_fps(self):\n",
    "        return self.get_frame_diffs().mean()                "
   ]
  },
  {
   "cell_type": "code",
   "execution_count": 53,
   "metadata": {},
   "outputs": [],
   "source": [
    "class PositionTracker:\n",
    "    \n",
    "    def __init__(self, video_streamer, background_file='background.png'):\n",
    "        self.video_streamer = video_streamer\n",
    "        self.background = cv2.imread(background_file, 1)\n",
    "        self.fps = 20.0\n",
    "        self.x, self.y = None, None\n",
    "        self.contour = []\n",
    "        self.stopped = False\n",
    "        self.frame_counter = []\n",
    "        \n",
    "        self.mask = np.zeros(shape=self.background.shape, dtype=\"uint8\")\n",
    "        cv2.circle(self.mask, (512, 384), 350, BGR_COLOR['white'], -1)\n",
    "        \n",
    "    def start(self):\n",
    "        self.t_start = time.time()\n",
    "        th = threading.Thread(target=self.update, args=())\n",
    "        th.start()\n",
    "        return th\n",
    "    \n",
    "    def stop(self):\n",
    "        self.stopped = True\n",
    "        \n",
    "    def update(self):\n",
    "        while not self.stopped:\n",
    "            if time.time() < self.t_start + 1./self.fps * float(len(self.frame_counter)):\n",
    "                continue\n",
    "\n",
    "            frame = self.video_streamer.read()\n",
    "            if frame is not None:\n",
    "                self.detect_position(frame)\n",
    "                self.frame_counter.append(time.time())\n",
    "                if len(self.frame_counter) == 1:\n",
    "                    self.t_start = self.frame_counter[0]\n",
    "                \n",
    "    def get_frame_diffs(self):\n",
    "        return 1.0/np.diff(np.array(self.frame_counter))\n",
    "        \n",
    "    def get_avg_fps(self):\n",
    "        return self.get_frame_diffs().mean()          \n",
    "       \n",
    "    def detect_position(self, frame):\n",
    "        masked_frame = cv2.bitwise_and(src1=frame, src2=self.mask)\n",
    "\n",
    "        # Substracts background from current frame\n",
    "        subject = cv2.subtract(masked_frame, self.background)\n",
    "\n",
    "        # Converts subject to grey scale\n",
    "        subject_gray = cv2.cvtColor(subject, cv2.COLOR_BGR2GRAY)\n",
    "\n",
    "        # Applies blur and thresholding to the subject\n",
    "        kernel_size = (25,25)\n",
    "        frame_blur = cv2.GaussianBlur(subject_gray, kernel_size, 0)\n",
    "        _, thresh = cv2.threshold(frame_blur, 40, 255, cv2.THRESH_BINARY)\n",
    "\n",
    "        # Finds contours and selects the contour with the largest area\n",
    "        contours, hierarchy = cv2.findContours(thresh.copy(), cv2.RETR_TREE, cv2.CHAIN_APPROX_NONE)\n",
    "\n",
    "        if len(contours) == 0:\n",
    "            return\n",
    "        contour = contours[np.argmax(list(map(cv2.contourArea, contours)))]\n",
    "        M = cv2.moments(contour)\n",
    "        if (M['m00'] == 0):\n",
    "            return\n",
    "\n",
    "        self.x = int(M['m10'] / M['m00'])\n",
    "        self.y = int(M['m01'] / M['m00'])\n",
    "        self.contour = contour"
   ]
  },
  {
   "cell_type": "code",
   "execution_count": 54,
   "metadata": {},
   "outputs": [],
   "source": [
    "class SoundController:\n",
    "    \n",
    "    def __init__(self):\n",
    "        sd.default.samplerate = 44100\n",
    "        #sd.default.device = 20  # set the device id\n",
    "        self.stopped = False\n",
    "        self.frame_counter = []\n",
    "        \n",
    "        tone = SoundController.get_pure_tone(440, 0.05, 44100) * 0.5\n",
    "        self.tone_stereo = np.column_stack((tone, tone))\n",
    "        \n",
    "        self.stream = sd.OutputStream(samplerate=sd.default.samplerate, channels=2, dtype='float32', blocksize=100)\n",
    "\n",
    "    @staticmethod\n",
    "    def get_pure_tone(freq, duration, sample_rate=44100):\n",
    "        x = np.linspace(0, duration * freq * 2*np.pi, int(duration*sample_rate), dtype=np.float32)\n",
    "        return np.sin(x)\n",
    "\n",
    "    def start(self):\n",
    "        self.stream.start()\n",
    "        self.last_chirp = time.time()\n",
    "        th = threading.Thread(target=self.update, args=())\n",
    "        th.start()\n",
    "        return th\n",
    "    \n",
    "    def stop(self):\n",
    "        self.stopped = True\n",
    "        \n",
    "    def update(self):\n",
    "        while not self.stopped:\n",
    "            t0 = time.time()\n",
    "            if t0 > self.last_chirp + 0.25:\n",
    "                self.last_chirp = t0\n",
    "                #sd.play(self.tone)\n",
    "                self.frame_counter.append(time.time())\n",
    "                self.stream.write(self.tone_stereo)\n",
    "        self.stream.stop()                \n",
    "                \n",
    "    def get_frame_diffs(self):\n",
    "        return 1.0/np.diff(np.array(self.frame_counter))\n",
    "        \n",
    "    def get_avg_fps(self):\n",
    "        return self.get_frame_diffs().mean()                "
   ]
  },
  {
   "cell_type": "code",
   "execution_count": null,
   "metadata": {},
   "outputs": [],
   "source": []
  },
  {
   "cell_type": "code",
   "execution_count": 55,
   "metadata": {},
   "outputs": [],
   "source": [
    "# TODO update FPS counters"
   ]
  },
  {
   "cell_type": "code",
   "execution_count": 56,
   "metadata": {},
   "outputs": [],
   "source": [
    "# check camera output formats with FFMPEG\n",
    "# https://stackoverflow.com/questions/15301608/how-to-query-a-webcams-output-formats\n",
    "#\n",
    "# ffmpeg -list_devices true -f dshow -i dummy\n",
    "# ffmpeg -list_options true -f dshow -i video=\"HD USB Camera\""
   ]
  },
  {
   "cell_type": "code",
   "execution_count": 57,
   "metadata": {
    "scrolled": false
   },
   "outputs": [
    {
     "name": "stdout",
     "output_type": "stream",
     "text": [
      "Windows destroyed\n",
      "Streamer stopped\n",
      "Position stopped\n",
      "Sound stopped\n",
      "Writer stopped\n",
      "Threads joined\n"
     ]
    }
   ],
   "source": [
    "# https://stackoverflow.com/questions/39308664/opencv-cant-set-mjpg-compression-for-usb-camera\n",
    "#vs = WebcamVideoStream(src=0, api=cv2.CAP_DSHOW)  # for IR usb camera api=cv2.CAP_DSHOW\n",
    "vs = WebcamVideoStream(src=0)\n",
    "t1 = vs.start()\n",
    "\n",
    "vw = VideoWriter(vs)\n",
    "t2 = vw.start()\n",
    "\n",
    "pt = PositionTracker(vs, background_file=os.path.join('assets', 'background.png'))\n",
    "t3 = pt.start()\n",
    "\n",
    "sc = SoundController()\n",
    "t4 = sc.start()\n",
    "\n",
    "\n",
    "frame_counter = []\n",
    "try:\n",
    "    while True:\n",
    "        frame_counter.append(time.time())\n",
    "        \n",
    "        frame = vs.read()\n",
    "        if frame is not None:\n",
    "            #if pt.x is not None:\n",
    "            #    cv2.circle(frame, (pt.x, pt.y), 3, BGR_COLOR['yellow'], -1)\n",
    "            cv2.imshow(\"Experiment\", frame)\n",
    "\n",
    "        k = cv2.waitKey(33)\n",
    "        if k == ord('q'):\n",
    "            break\n",
    "\n",
    "finally:\n",
    "    cv2.destroyAllWindows()\n",
    "    print('Windows destroyed') \n",
    "    \n",
    "    vs.stop()\n",
    "    print('Streamer stopped')\n",
    "    pt.stop()\n",
    "    print('Position stopped')\n",
    "    sc.stop()\n",
    "    print('Sound stopped')\n",
    "    vw.stop()\n",
    "    print('Writer stopped')\n",
    "    \n",
    "    # TODO - try to join the threads inside controller stop\n",
    "    for t in [t1, t2, t3, t4]:\n",
    "        t.join()\n",
    "        \n",
    "    print('Threads joined')"
   ]
  },
  {
   "cell_type": "code",
   "execution_count": 58,
   "metadata": {},
   "outputs": [
    {
     "data": {
      "text/plain": [
       "(26.392377180213458, 21.9552265867014, 11.430664479171257, 3.974301023996423)"
      ]
     },
     "execution_count": 58,
     "metadata": {},
     "output_type": "execute_result"
    }
   ],
   "source": [
    "vs.get_avg_fps(), vw.get_avg_fps(), pt.get_avg_fps(), sc.get_avg_fps()"
   ]
  },
  {
   "cell_type": "code",
   "execution_count": 59,
   "metadata": {},
   "outputs": [
    {
     "data": {
      "image/png": "[encoded data removed]",
      "text/plain": [
       "<Figure size 432x288 with 1 Axes>"
      ]
     },
     "metadata": {
      "needs_background": "light"
     },
     "output_type": "display_data"
    }
   ],
   "source": [
    "_ = plt.hist(sc.get_frame_diffs(), 50)"
   ]
  },
  {
   "cell_type": "code",
   "execution_count": 60,
   "metadata": {},
   "outputs": [
    {
     "data": {
      "text/plain": [
       "[<matplotlib.lines.Line2D at 0x7f087fa4e880>]"
      ]
     },
     "execution_count": 60,
     "metadata": {},
     "output_type": "execute_result"
    },
    {
     "data": {
      "image/png": "[encoded data removed]",
      "text/plain": [
       "<Figure size 432x288 with 1 Axes>"
      ]
     },
     "metadata": {
      "needs_background": "light"
     },
     "output_type": "display_data"
    }
   ],
   "source": [
    "#plt.plot(sc.get_frame_diffs())\n",
    "plt.plot(np.diff(np.array(sc.frame_counter)[5:]) )"
   ]
  },
  {
   "cell_type": "code",
   "execution_count": 61,
   "metadata": {},
   "outputs": [
    {
     "data": {
      "text/plain": [
       "array([3.25796489, 3.99999619, 3.99062262, 3.92156687, 3.95192084,\n",
       "       4.        , 3.99866911, 4.00000763, 3.99999619, 3.99999619,\n",
       "       3.99998474, 3.82349391, 3.99989319, 4.00000381, 3.99998856,\n",
       "       3.93663177, 3.94818593, 3.99999237, 3.96982245, 3.89922616,\n",
       "       3.97762676, 3.99999619, 3.99997711, 3.99943932, 4.        ,\n",
       "       4.        , 4.        , 3.99999619, 3.9997368 , 4.00000381,\n",
       "       3.99998093, 4.00000763, 4.        , 3.99999619, 3.99999619,\n",
       "       3.99999619, 3.99999619, 3.99999237, 4.00000381, 3.99999237,\n",
       "       3.99999237, 4.        , 3.99999619, 3.99987412, 3.99999619,\n",
       "       3.99999237, 3.98911964, 4.        , 4.        , 3.99999619,\n",
       "       3.99999619, 3.99998856])"
      ]
     },
     "execution_count": 61,
     "metadata": {},
     "output_type": "execute_result"
    }
   ],
   "source": [
    "sc.get_frame_diffs()"
   ]
  },
  {
   "cell_type": "code",
   "execution_count": null,
   "metadata": {},
   "outputs": [],
   "source": []
  }
 ],
 "metadata": {
  "kernelspec": {
   "display_name": "Python 3",
   "language": "python",
   "name": "python3"
  },
  "language_info": {
   "codemirror_mode": {
    "name": "ipython",
    "version": 3
   },
   "file_extension": ".py",
   "mimetype": "text/x-python",
   "name": "python",
   "nbconvert_exporter": "python",
   "pygments_lexer": "ipython3",
   "version": "3.8.10"
  }
 },
 "nbformat": 4,
 "nbformat_minor": 4
}
