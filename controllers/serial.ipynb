{
 "cells": [
  {
   "cell_type": "code",
   "execution_count": 1,
   "id": "9224e357",
   "metadata": {},
   "outputs": [],
   "source": [
    "from pyfirmata import Arduino\n",
    "import serial\n",
    "import time"
   ]
  },
  {
   "cell_type": "code",
   "execution_count": 4,
   "id": "4e6dfa60",
   "metadata": {},
   "outputs": [],
   "source": [
    "class MCSArduino(Arduino):\n",
    "    pin_diode = 13\n",
    "    pin_TTL = 6\n",
    "    pin_LED_lights = 7\n",
    "    \n",
    "    def __init__(self, *args, **kwargs):\n",
    "        self.last_cmd = False  # False - Arduino LOW, True - Arduino HIGH\n",
    "        self.is_light_off = False\n",
    "        super(MCSArduino, self).__init__(*args, **kwargs)\n",
    "        \n",
    "    def start_or_stop(self):\n",
    "        self.last_cmd = not self.last_cmd\n",
    "        self.digital[MCSArduino.pin_diode].write(self.last_cmd)\n",
    "        self.digital[MCSArduino.pin_TTL].write(self.last_cmd)\n",
    "\n",
    "    def switch_light(self):\n",
    "        self.is_light_off = not self.is_light_off\n",
    "        self.digital[MCSArduino.pin_LED_lights].write(self.is_light_off)\n",
    "        \n",
    "class FakeArduino():\n",
    "    def start_or_stop(self):\n",
    "        print(\"Fake Arduino - sending a TTL pulse\")\n",
    "        \n",
    "    def exit(self):\n",
    "        print(\"Fake Arduino - exiting...\")"
   ]
  },
  {
   "cell_type": "code",
   "execution_count": 3,
   "id": "b59f6f32",
   "metadata": {},
   "outputs": [],
   "source": [
    "class Feeder:\n",
    "    def __init__(self, port, baudrate=9600):\n",
    "        self.device = serial.Serial(port, baudrate=baudrate)\n",
    "        \n",
    "    def feed(self):\n",
    "        self.device.write('SP200\\r'.encode())\n",
    "        self.device.write('LR6175\\r'.encode())\n",
    "        self.device.write('m\\r'.encode())\n",
    "        \n",
    "    def exit(self):\n",
    "        self.device.close()"
   ]
  },
  {
   "cell_type": "markdown",
   "id": "7a2e093b",
   "metadata": {},
   "source": [
    "### Testing Arduino TTL pulses"
   ]
  },
  {
   "cell_type": "code",
   "execution_count": 9,
   "id": "f1050f57",
   "metadata": {},
   "outputs": [],
   "source": [
    "board = MCSArduino('COM10')  # Windows - 'COM10', Linux - '/dev/ttyACM0', check /dev/tty*"
   ]
  },
  {
   "cell_type": "code",
   "execution_count": 11,
   "id": "e8470dc1",
   "metadata": {},
   "outputs": [],
   "source": [
    "# check the light on-off\n",
    "board.switch_light()"
   ]
  },
  {
   "cell_type": "code",
   "execution_count": 21,
   "id": "48949c5e",
   "metadata": {},
   "outputs": [],
   "source": [
    "# Arduino should blink 2 times\n",
    "for i in range(4):\n",
    "    board.start_or_stop()\n",
    "    time.sleep(2)"
   ]
  },
  {
   "cell_type": "code",
   "execution_count": 12,
   "id": "97ae6ba1",
   "metadata": {},
   "outputs": [],
   "source": [
    "board.exit()"
   ]
  },
  {
   "cell_type": "markdown",
   "id": "5dd0cb50",
   "metadata": {},
   "source": [
    "### Testing feeder"
   ]
  },
  {
   "cell_type": "code",
   "execution_count": 4,
   "id": "a3bc3404",
   "metadata": {},
   "outputs": [],
   "source": [
    "feeder = Feeder('COM8')\n",
    "\n",
    "time.sleep(5)  # time to get inside the chamber and see that it works\n",
    "feeder.feed()\n",
    "\n",
    "feeder.exit()"
   ]
  },
  {
   "cell_type": "code",
   "execution_count": null,
   "id": "b8990545",
   "metadata": {},
   "outputs": [],
   "source": []
  }
 ],
 "metadata": {
  "kernelspec": {
   "display_name": "Python 3",
   "language": "python",
   "name": "python3"
  },
  "language_info": {
   "codemirror_mode": {
    "name": "ipython",
    "version": 3
   },
   "file_extension": ".py",
   "mimetype": "text/x-python",
   "name": "python",
   "nbconvert_exporter": "python",
   "pygments_lexer": "ipython3",
   "version": "3.8.8"
  }
 },
 "nbformat": 4,
 "nbformat_minor": 5
}
