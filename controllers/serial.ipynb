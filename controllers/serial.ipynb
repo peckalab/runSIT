{
 "cells": [
  {
   "cell_type": "code",
   "execution_count": 5,
   "id": "82162890",
   "metadata": {},
   "outputs": [],
   "source": [
    "from pyfirmata import Arduino\n",
    "import serial\n",
    "import time"
   ]
  },
  {
   "cell_type": "code",
   "execution_count": 18,
   "id": "fe78b7d4",
   "metadata": {},
   "outputs": [],
   "source": [
    "class MCSArduino(Arduino):\n",
    "    pin_diode = 13\n",
    "    pin_TTL = 6\n",
    "    pin_LED_lights = 7\n",
    "    pin_feeder = 8\n",
    "    \n",
    "    def __init__(self, *args, **kwargs):\n",
    "        self.last_cmd = False  # False - Arduino LOW, True - Arduino HIGH\n",
    "        self.is_light_off = False\n",
    "        super(MCSArduino, self).__init__(*args, **kwargs)\n",
    "        \n",
    "    def start_or_stop(self):  # acquisition\n",
    "        self.last_cmd = not self.last_cmd\n",
    "        self.digital[MCSArduino.pin_diode].write(self.last_cmd)\n",
    "        self.digital[MCSArduino.pin_TTL].write(self.last_cmd)\n",
    "\n",
    "    def switch_light(self):\n",
    "        self.is_light_off = not self.is_light_off\n",
    "        self.digital[MCSArduino.pin_LED_lights].write(self.is_light_off)\n",
    "        \n",
    "    def feed(self):\n",
    "        self.digital[MCSArduino.pin_feeder].write(True)\n",
    "        time.sleep(0.01)\n",
    "        self.digital[MCSArduino.pin_feeder].write(False)\n",
    "        \n",
    "        \n",
    "class FakeArduino():\n",
    "    def __init__(self):\n",
    "        self.is_light_off = False\n",
    "        \n",
    "    def start_or_stop(self):\n",
    "        print(\"Fake Arduino - sending a TTL pulse\")\n",
    "        \n",
    "    def exit(self):\n",
    "        print(\"Fake Arduino - exiting...\")\n",
    "        \n",
    "    def switch_light(self):\n",
    "        self.is_light_off = not self.is_light_off\n",
    "        print(\"Fake Arduino - switching light on/off...\")\n",
    "        \n",
    "    def feed(self):\n",
    "        print(\"Fake Arduino - feeding...\")"
   ]
  },
  {
   "cell_type": "code",
   "execution_count": 7,
   "id": "99209a2c",
   "metadata": {},
   "outputs": [],
   "source": [
    "class FakeDevice:\n",
    "    def write(self):\n",
    "        pass\n",
    "    def close(self):\n",
    "        pass\n",
    "\n",
    "class Feeder:\n",
    "    def __init__(self, port, baudrate=9600):\n",
    "        if port == 'fake':\n",
    "            self.device = FakeDevice()\n",
    "        else:\n",
    "            self.device = serial.Serial(port, baudrate=baudrate)\n",
    "        \n",
    "    def feed(self):\n",
    "        self.device.write('SP200\\r'.encode())\n",
    "        self.device.write('LR6175\\r'.encode())\n",
    "        self.device.write('m\\r'.encode())\n",
    "        \n",
    "    def exit(self):\n",
    "        self.device.close()"
   ]
  },
  {
   "cell_type": "markdown",
   "id": "56d33a31",
   "metadata": {},
   "source": [
    "### Testing Arduino TTL pulses"
   ]
  },
  {
   "cell_type": "code",
   "execution_count": 15,
   "id": "a8ee4492",
   "metadata": {},
   "outputs": [],
   "source": [
    "board = MCSArduino('COM10')  # Windows - 'COM10', Linux - '/dev/ttyACM0', check /dev/tty*"
   ]
  },
  {
   "cell_type": "code",
   "execution_count": 10,
   "id": "8aef8b20",
   "metadata": {},
   "outputs": [],
   "source": [
    "# check the light on-off\n",
    "board.switch_light()"
   ]
  },
  {
   "cell_type": "code",
   "execution_count": 20,
   "id": "94466a46",
   "metadata": {},
   "outputs": [],
   "source": [
    "# testing sync with acquisition system\n",
    "board.start_or_stop()"
   ]
  },
  {
   "cell_type": "code",
   "execution_count": 16,
   "id": "8887f991",
   "metadata": {},
   "outputs": [],
   "source": [
    "for i in range(10):\n",
    "    time.sleep(5)\n",
    "    board.feed()"
   ]
  },
  {
   "cell_type": "code",
   "execution_count": 5,
   "id": "c0687f02",
   "metadata": {},
   "outputs": [],
   "source": [
    "# Arduino should blink 2 times\n",
    "for i in range(4):\n",
    "    board.start_or_stop()\n",
    "    time.sleep(2)"
   ]
  },
  {
   "cell_type": "code",
   "execution_count": 14,
   "id": "bc432891",
   "metadata": {},
   "outputs": [
    {
     "data": {
      "text/plain": [
       "False"
      ]
     },
     "execution_count": 14,
     "metadata": {},
     "output_type": "execute_result"
    }
   ],
   "source": [
    "board.digital[5].value"
   ]
  },
  {
   "cell_type": "code",
   "execution_count": 17,
   "id": "f883b19d",
   "metadata": {},
   "outputs": [],
   "source": [
    "board.exit()"
   ]
  },
  {
   "cell_type": "markdown",
   "id": "54d9ffa1",
   "metadata": {},
   "source": [
    "### Testing feeder"
   ]
  },
  {
   "cell_type": "code",
   "execution_count": 4,
   "id": "990f5a4f",
   "metadata": {},
   "outputs": [],
   "source": [
    "feeder = Feeder('COM8')\n",
    "\n",
    "time.sleep(5)  # time to get inside the chamber and see that it works\n",
    "feeder.feed()\n",
    "\n",
    "feeder.exit()"
   ]
  },
  {
   "cell_type": "code",
   "execution_count": null,
   "id": "982eb841",
   "metadata": {},
   "outputs": [],
   "source": []
  }
 ],
 "metadata": {
  "kernelspec": {
   "display_name": "Python 3",
   "language": "python",
   "name": "python3"
  },
  "language_info": {
   "codemirror_mode": {
    "name": "ipython",
    "version": 3
   },
   "file_extension": ".py",
   "mimetype": "text/x-python",
   "name": "python",
   "nbconvert_exporter": "python",
   "pygments_lexer": "ipython3",
   "version": "3.8.8"
  }
 },
 "nbformat": 4,
 "nbformat_minor": 5
}
