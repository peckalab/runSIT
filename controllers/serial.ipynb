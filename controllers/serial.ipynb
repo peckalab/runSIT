{
 "cells": [
  {
   "cell_type": "code",
   "execution_count": 1,
   "id": "9224e357",
   "metadata": {},
   "outputs": [],
   "source": [
    "from pyfirmata import Arduino"
   ]
  },
  {
   "cell_type": "code",
   "execution_count": 3,
   "id": "4e6dfa60",
   "metadata": {},
   "outputs": [],
   "source": [
    "pin_diode = 13\n",
    "pin_TTL = 6\n",
    "\n",
    "class MCSArduino(Arduino):\n",
    "    def __init__(self, *args, **kwargs):\n",
    "        self.last_cmd = False  # False - Arduino LOW, True - Arduino HIGH\n",
    "        super(MCSArduino, self).__init__(*args, **kwargs)\n",
    "        \n",
    "    def start_or_stop(self):\n",
    "        self.last_cmd = not self.last_cmd\n",
    "        self.digital[pin_diode].write(self.last_cmd)\n",
    "        self.digital[pin_TTL].write(self.last_cmd)\n",
    "\n",
    "class FakeArduino():\n",
    "    def start_or_stop(self):\n",
    "        print(\"Fake Arduino - sending a TTL pulse\")\n",
    "        \n",
    "    def exit(self):\n",
    "        print(\"Fake Arduino - exiting...\")"
   ]
  },
  {
   "cell_type": "code",
   "execution_count": null,
   "id": "f1050f57",
   "metadata": {},
   "outputs": [],
   "source": [
    "# Initialize REAL Arduino if connected\n",
    "if cfg['MCSArduinoPort'] == 'fake':\n",
    "    board = FakeArduino()\n",
    "else:\n",
    "    board = MCSArduino(cfg['MCSArduinoPort'])  # Windows - 'COM10', Linux - '/dev/ttyACM0', check /dev/tty*"
   ]
  },
  {
   "cell_type": "code",
   "execution_count": null,
   "id": "e40e3675",
   "metadata": {},
   "outputs": [],
   "source": []
  }
 ],
 "metadata": {
  "kernelspec": {
   "display_name": "Python 3 (ipykernel)",
   "language": "python",
   "name": "python3"
  },
  "language_info": {
   "codemirror_mode": {
    "name": "ipython",
    "version": 3
   },
   "file_extension": ".py",
   "mimetype": "text/x-python",
   "name": "python",
   "nbconvert_exporter": "python",
   "pygments_lexer": "ipython3",
   "version": "3.8.5"
  }
 },
 "nbformat": 4,
 "nbformat_minor": 5
}
