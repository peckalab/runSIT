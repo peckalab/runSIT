{
 "cells": [
  {
   "cell_type": "code",
   "execution_count": 8,
   "metadata": {},
   "outputs": [],
   "source": [
    "import numpy as np\n",
    "import time, os\n",
    "import matplotlib.pyplot as plt\n",
    "import multiprocessing as mp"
   ]
  },
  {
   "cell_type": "code",
   "execution_count": 19,
   "metadata": {},
   "outputs": [],
   "source": [
    "class SoundController:\n",
    "    # https://python-sounddevice.readthedocs.io/en/0.3.15/api/streams.html#sounddevice.OutputStream\n",
    "    \n",
    "    default_cfg = {\n",
    "        'frequencies': [440, 880],\n",
    "        'pulse_duration': 0.05,\n",
    "        'sample_rate': 44100,\n",
    "        'latency': 0.25,\n",
    "        'volume': 0.75,\n",
    "        'file_path': 'test_sound_log.csv',\n",
    "    }\n",
    "    \n",
    "    @staticmethod\n",
    "    def get_pure_tone(freq, duration, sample_rate=44100):\n",
    "        x = np.linspace(0, duration * freq * 2*np.pi, int(duration*sample_rate), dtype=np.float32)\n",
    "        return np.sin(x)\n",
    "    \n",
    "    @staticmethod\n",
    "    def get_tone_stack(frequencies, pulse_duration, volume=0.75, sample_rate=44100):\n",
    "        silence = np.zeros(2, dtype='float32')\n",
    "        sounds = {0: np.column_stack((silence, silence))}\n",
    "\n",
    "        for i, freq in enumerate(frequencies):\n",
    "            # TODO add tone onset offset\n",
    "            tone = SoundController.get_pure_tone(freq, pulse_duration, sample_rate) * volume           \n",
    "            sounds[i + 1] = np.column_stack((tone, tone))\n",
    "            \n",
    "        return sounds\n",
    "    \n",
    "    @classmethod\n",
    "    def run(cls, selector, status, cfg):\n",
    "        \"\"\"\n",
    "        selector        mp.Value object to set the sound to be played\n",
    "        status          mp.Value object to stop the loop\n",
    "        \"\"\"\n",
    "        import sounddevice as sd  # must be inside the function\n",
    "\n",
    "        sounds = cls.get_tone_stack(cfg['frequencies'], cfg['pulse_duration'])\n",
    "\n",
    "        sd.default.samplerate = cfg['sample_rate']\n",
    "        stream = sd.OutputStream(samplerate=cfg['sample_rate'], channels=2, dtype='float32', blocksize=256)\n",
    "        stream.start()\n",
    "\n",
    "        next_beat = time.time() + cfg['latency']\n",
    "        with open(cfg['file_path'], 'w') as f:\n",
    "            f.write(\"time,id\\n\")\n",
    "\n",
    "        while status.value > 0:\n",
    "            if status.value == 2:  # running state\n",
    "                t0 = time.time()\n",
    "                if t0 < next_beat:\n",
    "                    #time.sleep(0.0001)  # not to spin the wheels too much\n",
    "                    if stream.write_available > 2:\n",
    "                        stream.write(sounds[0])  # silence\n",
    "                    continue\n",
    "\n",
    "                stream.write(sounds[int(selector.value)])\n",
    "                with open(cfg['file_path'], 'a') as f:\n",
    "                    f.write(\",\".join([str(x) for x in (t0, selector.value)]) + \"\\n\")\n",
    "\n",
    "                next_beat += cfg['latency']\n",
    "                \n",
    "                if stream.write_available > 2:\n",
    "                    stream.write(sounds[0])  # silence\n",
    "            \n",
    "            else:  # idle state\n",
    "                next_beat = time.time() + cfg['latency']\n",
    "                time.sleep(0.05)\n",
    "                \n",
    "        stream.stop()\n",
    "        print('Sound stopped')"
   ]
  },
  {
   "cell_type": "markdown",
   "metadata": {},
   "source": [
    "### Testing sound pulses"
   ]
  },
  {
   "cell_type": "code",
   "execution_count": 20,
   "metadata": {},
   "outputs": [
    {
     "name": "stdout",
     "output_type": "stream",
     "text": [
      "Sound stopped\n"
     ]
    }
   ],
   "source": [
    "# sound selector: 0 - silence, 1 - tone 1, 2 - tone 2\n",
    "selector = mp.Value('i', 1)\n",
    "\n",
    "# loggin status: 1 - idle, 2 - running, 0 - stopped\n",
    "status = mp.Value('i', 1)\n",
    "\n",
    "sc = mp.Process(target=SoundController.run, args=(selector, status, SoundController.default_cfg))\n",
    "sc.start()\n",
    "\n",
    "# nothing happens for a second\n",
    "time.sleep(1)\n",
    "\n",
    "# 2 seconds of tone 1\n",
    "status.value = 2\n",
    "time.sleep(2)\n",
    "\n",
    "# 2 seconds of tone 2\n",
    "selector.value = 2\n",
    "time.sleep(2)\n",
    "\n",
    "# stop\n",
    "status.value = 0\n",
    "time.sleep(0.2)\n",
    "sc.join()"
   ]
  },
  {
   "cell_type": "code",
   "execution_count": 21,
   "metadata": {},
   "outputs": [
    {
     "data": {
      "text/plain": [
       "[<matplotlib.lines.Line2D at 0x7fcfc5ed7370>]"
      ]
     },
     "execution_count": 21,
     "metadata": {},
     "output_type": "execute_result"
    },
    {
     "data": {
      "image/png": "[encoded data removed]",
      "text/plain": [
       "<Figure size 432x288 with 1 Axes>"
      ]
     },
     "metadata": {
      "needs_background": "light"
     },
     "output_type": "display_data"
    }
   ],
   "source": [
    "ds = np.loadtxt('test_sound_log.csv', delimiter=',', skiprows=1)\n",
    "plt.plot(np.diff(ds[:, 0]))"
   ]
  },
  {
   "cell_type": "code",
   "execution_count": 27,
   "metadata": {},
   "outputs": [
    {
     "data": {
      "text/plain": [
       "6.945724898237127"
      ]
     },
     "execution_count": 27,
     "metadata": {},
     "output_type": "execute_result"
    }
   ],
   "source": [
    "10 * np.random.rand()"
   ]
  },
  {
   "cell_type": "code",
   "execution_count": null,
   "metadata": {},
   "outputs": [],
   "source": []
  }
 ],
 "metadata": {
  "kernelspec": {
   "display_name": "Python 3 (ipykernel)",
   "language": "python",
   "name": "python3"
  },
  "language_info": {
   "codemirror_mode": {
    "name": "ipython",
    "version": 3
   },
   "file_extension": ".py",
   "mimetype": "text/x-python",
   "name": "python",
   "nbconvert_exporter": "python",
   "pygments_lexer": "ipython3",
   "version": "3.8.5"
  }
 },
 "nbformat": 4,
 "nbformat_minor": 4
}
