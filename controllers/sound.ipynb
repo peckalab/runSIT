{
 "cells": [
  {
   "cell_type": "code",
   "execution_count": 9,
   "metadata": {},
   "outputs": [
    {
     "name": "stdout",
     "output_type": "stream",
     "text": [
      "Overwriting sound.py\n"
     ]
    }
   ],
   "source": [
    "%%writefile sound.py\n",
    "import numpy as np\n",
    "import time\n",
    "from scipy.signal import lfilter\n",
    "from functools import reduce\n",
    "\n",
    "import os\n",
    "import threading\n",
    "\n",
    "\n",
    "class SoundController:\n",
    "    # https://python-sounddevice.readthedocs.io/en/0.3.15/api/streams.html#sounddevice.OutputStream\n",
    "    \n",
    "    default_cfg = {\n",
    "        \"device\": [1, 26],\n",
    "        \"n_channels\": 10,\n",
    "        \"sounds\": {\n",
    "            \"noise\": {\"amp\": 0.2, \"channels\": [6, 8]},\n",
    "            \"background\": {\"freq\": 660, \"amp\": 0.1, \"duration\": 0.05, \"harmonics\": True, \"channels\": [3, 8]},\n",
    "            \"target\": {\"freq\": 1320, \"amp\": 0.1, \"duration\": 0.05, \"harmonics\": True, \"channels\": [3, 8]}, \n",
    "            \"distractor1\": {\"freq\": 860, \"amp\": 0.15, \"duration\": 0.05, \"harmonics\": True, \"channels\": [6, 8], \"enabled\": False},\n",
    "            \"distractor2\": {\"freq\": 1060, \"amp\": 0.25, \"duration\": 0.05, \"harmonics\": True, \"channels\": [6, 8], \"enabled\": False},\n",
    "            \"distractor3\": {\"freq\": 1320, \"amp\": 0.2, \"duration\": 0.05, \"harmonics\": True, \"channels\": [6, 8], \"enabled\": False}\n",
    "        },\n",
    "        \"pulse_duration\": 0.05,\n",
    "        \"sample_rate\": 44100,\n",
    "        \"latency\": 0.25,\n",
    "        \"volume\": 0.7,\n",
    "        \"roving\": 5.0,\n",
    "        \"file_path\": \"sounds.csv\"\n",
    "    }\n",
    "    \n",
    "    @classmethod\n",
    "    def get_pure_tone(cls, freq, duration, sample_rate=44100):\n",
    "        x = np.linspace(0, duration * freq * 2*np.pi, int(duration*sample_rate), dtype=np.float32)\n",
    "        return np.sin(x)\n",
    "\n",
    "    @classmethod\n",
    "    def get_harm_stack(cls, base_freq, duration, threshold=1500, sample_rate=44100):\n",
    "        harmonics = [x * base_freq for x in np.arange(20) + 2 if x * base_freq < threshold]  # first 20 enouch\n",
    "        freqs = [base_freq] + harmonics\n",
    "        x = np.linspace(0, duration, int(sample_rate * duration))\n",
    "        y = reduce(lambda x, y: x + y, [(1./(i+1)) * np.sin(base_freq * 2 * np.pi * x) for i, base_freq in enumerate(freqs)])\n",
    "        return y / y.max()  # norm to -1 to 1\n",
    "    \n",
    "    @classmethod\n",
    "    def get_cos_window(cls, tone, win_duration, sample_rate=44100):\n",
    "        x = np.linspace(0, np.pi/2, int(win_duration * sample_rate), dtype=np.float32)\n",
    "        onset =  np.sin(x)\n",
    "        middle = np.ones(len(tone) - 2 * len(x))\n",
    "        offset = np.cos(x)\n",
    "        return np.concatenate([onset, middle, offset])\n",
    "\n",
    "    @classmethod\n",
    "    def get_tone_stack(cls, cfg):\n",
    "        # silence\n",
    "        silence = np.zeros(2, dtype='float32')\n",
    "        sounds = {'silence': np.column_stack([silence for x in range(cfg['n_channels'])])}\n",
    "\n",
    "        # noise\n",
    "        filter_a = np.array([0.0075, 0.0225, 0.0225, 0.0075])\n",
    "        filter_b = np.array([1.0000,-2.1114, 1.5768,-0.4053])\n",
    "\n",
    "        noise = np.random.randn(int(0.25 * cfg['sample_rate']))  # 250ms of noise\n",
    "        noise = lfilter(filter_a, filter_b, noise)\n",
    "        noise = noise / np.abs(noise).max() * cfg['sounds']['noise']['amp']\n",
    "        noise = noise.astype(np.float32)\n",
    "        empty = np.zeros((len(noise), cfg['n_channels']), dtype='float32')\n",
    "        for ch in cfg['sounds']['noise']['channels']:\n",
    "            empty[:, ch-1] = noise\n",
    "        sounds['noise'] = empty\n",
    "        \n",
    "        # all other sounds\n",
    "        for key, snd in cfg['sounds'].items():\n",
    "            if key == 'noise' or ('enabled' in snd and not snd['enabled']):\n",
    "                continue  # skip noise or unused sounds\n",
    "                \n",
    "            if 'harmonics' in snd and snd['harmonics']:\n",
    "                tone = cls.get_harm_stack(snd['freq'], snd['duration'], sample_rate=cfg['sample_rate']) * cfg['volume']\n",
    "            else:\n",
    "                tone = cls.get_pure_tone(snd['freq'], snd['duration'], cfg['sample_rate']) * cfg['volume']\n",
    "            tone = tone * cls.get_cos_window(tone, 0.01, cfg['sample_rate'])  # onset / offset\n",
    "            tone = tone * snd['amp']  # amplitude\n",
    "            \n",
    "            sound = np.zeros([len(tone), cfg['n_channels']], dtype='float32')\n",
    "            for j in snd['channels']:\n",
    "                sound[:, j-1] = tone\n",
    "           \n",
    "            sounds[key] = sound\n",
    "\n",
    "        return sounds\n",
    "        \n",
    "    @classmethod\n",
    "    def run(cls, selector, status, cfg):\n",
    "        \"\"\"\n",
    "        selector        mp.Value object to set the sound to be played\n",
    "        status          mp.Value object to stop the loop\n",
    "        \"\"\"\n",
    "        import sounddevice as sd  # must be inside the function\n",
    "        import numpy as np\n",
    "        import time\n",
    "        \n",
    "        commutator = {\n",
    "            -1: 'noise',\n",
    "            0:  'silence',\n",
    "            1:  'background',\n",
    "            2:  'target',\n",
    "            3:  'distractor1',\n",
    "            4:  'distractor2',\n",
    "            5:  'distractor3',\n",
    "            6:  'distractor4',\n",
    "            7:  'distractor5'\n",
    "        }\n",
    "        \n",
    "        sounds = cls.get_tone_stack(cfg)\n",
    "\n",
    "        sd.default.device = cfg['device']\n",
    "        sd.default.samplerate = cfg['sample_rate']\n",
    "        stream = sd.OutputStream(samplerate=cfg['sample_rate'], channels=cfg['n_channels'], dtype='float32', blocksize=256)\n",
    "        stream.start()\n",
    "\n",
    "        next_beat = time.time() + cfg['latency']\n",
    "        with open(cfg['file_path'], 'w') as f:\n",
    "            f.write(\"time,id\\n\")\n",
    "\n",
    "        while status.value > 0:\n",
    "            if status.value == 2 or (status.value == 1 and selector.value == -1):  # running state or masking noise\n",
    "                t0 = time.time()\n",
    "                if t0 < next_beat:\n",
    "                    #time.sleep(0.0001)  # not to spin the wheels too much\n",
    "                    if stream.write_available > 2:\n",
    "                        stream.write(sounds['silence'])  # silence\n",
    "                    continue\n",
    "\n",
    "                roving = 10**((np.random.rand() * cfg['roving'] - cfg['roving']/2.0)/20.)\n",
    "                roving = roving if int(selector.value) > -1 else 1  # no roving for noise\n",
    "                stream.write(sounds[commutator[int(selector.value)]] * roving)\n",
    "                if status.value == 2:\n",
    "                    with open(cfg['file_path'], 'a') as f:\n",
    "                        f.write(\",\".join([str(x) for x in (t0, selector.value)]) + \"\\n\")\n",
    "\n",
    "                next_beat += cfg['latency']\n",
    "                \n",
    "                if stream.write_available > 2:\n",
    "                    stream.write(sounds['silence'])  # silence\n",
    "            \n",
    "            else:  # idle state\n",
    "                next_beat = time.time() + cfg['latency']\n",
    "                time.sleep(0.05)\n",
    "                \n",
    "        stream.stop()\n",
    "        print('Sound stopped')\n",
    "\n",
    "        \n",
    "class ContinuousSoundStream:\n",
    "   \n",
    "    default_cfg = {\n",
    "        'wav_file': os.path.join('..', 'assets', 'stream1.wav'),\n",
    "        'chunk_duration': 20,\n",
    "        'chunk_offset': 2\n",
    "    }\n",
    "    \n",
    "    def __init__(self, cfg):\n",
    "        from scipy.io import wavfile\n",
    "        import sounddevice as sd\n",
    "\n",
    "        self.cfg = cfg\n",
    "        self.stopped = False\n",
    "        self.samplerate, self.data = wavfile.read(cfg['wav_file'])\n",
    "        self.stream = sd.OutputStream(samplerate=self.samplerate, channels=2, dtype=self.data.dtype)\n",
    "\n",
    "    def start(self):\n",
    "        self._th = threading.Thread(target=self.update, args=())\n",
    "        self._th.start()\n",
    "\n",
    "    def stop(self):\n",
    "        self.stopped = True\n",
    "        self._th.join()\n",
    "        print('Continuous sound stream released')\n",
    "            \n",
    "    def update(self):\n",
    "        self.stream.start()\n",
    "        print('Continuous sound stream started at %s Hz' % (self.samplerate))\n",
    "        \n",
    "        offset = int(self.cfg['chunk_offset'] * self.samplerate)\n",
    "        chunk =  int(self.cfg['chunk_duration'] * self.samplerate)\n",
    "        \n",
    "        while not self.stopped:\n",
    "            start_idx = offset + np.random.randint(self.data.shape[0] - 2 * offset - chunk)\n",
    "            end_idx = start_idx + chunk\n",
    "            self.stream.write(self.data[start_idx:end_idx])\n",
    "            \n",
    "        self.stream.stop()\n",
    "        \n",
    "        \n",
    "class SoundControllerPR:\n",
    "    \n",
    "    default_cfg = {\n",
    "        \"device\": [1, 26],\n",
    "        \"n_channels\": 10,\n",
    "        \"sounds\": {\n",
    "            \"noise\": {\"amp\": 0.2, \"duration\": 2.0, \"channels\": [6, 8]},\n",
    "            \"target\": {\"freq\": 660, \"amp\": 0.1, \"duration\": 2.0}, \n",
    "        },\n",
    "        \"sample_rate\": 44100,\n",
    "        \"volume\": 0.7,\n",
    "        \"file_path\": \"sounds.csv\"\n",
    "    }\n",
    "        \n",
    "    def __init__(self, status, cfg):\n",
    "        import sounddevice as sd  # must be inside the function\n",
    "        import numpy as np\n",
    "        import time\n",
    "\n",
    "        sd.default.device = cfg['device']\n",
    "        sd.default.samplerate = cfg['sample_rate']\n",
    "        self.stream = sd.OutputStream(samplerate=cfg['sample_rate'], channels=cfg['n_channels'], dtype='float32', blocksize=256)\n",
    "        self.stream.start()\n",
    "\n",
    "        self.timers = []\n",
    "        self.status = status\n",
    "        self.cfg = cfg\n",
    "        \n",
    "        # noise (not assigned to channels)\n",
    "        filter_a = np.array([0.0075, 0.0225, 0.0225, 0.0075])\n",
    "        filter_b = np.array([1.0000,-2.1114, 1.5768,-0.4053])\n",
    "\n",
    "        noise = np.random.randn(int(cfg['sounds']['noise']['duration'] * cfg['sample_rate']))\n",
    "        noise = lfilter(filter_a, filter_b, noise)\n",
    "        noise = noise / np.abs(noise).max() * cfg['sounds']['noise']['amp']\n",
    "        noise = noise.astype(np.float32)\n",
    "\n",
    "        # target (not assigned to channels)\n",
    "        snd = cfg['sounds']['target']\n",
    "        target = SoundController.get_pure_tone(snd['freq'], snd['duration'], cfg['sample_rate']) * cfg['volume']\n",
    "        target = target * SoundController.get_cos_window(target, 0.01, cfg['sample_rate'])  # onset / offset\n",
    "        target = target * snd['amp']  # amplitude\n",
    "        \n",
    "        self.sounds = {'noise': noise, 'target': target}\n",
    "        \n",
    "    def target(self, hd_angle):\n",
    "        # TODO define which speakers should play\n",
    "        speaker1, speaker2 = 1, 8\n",
    "        to_play = np.zeros((len(self.sounds['target']), self.cfg['n_channels']), dtype='float32')\n",
    "        for ch in (speaker1, speaker2):\n",
    "            to_play[:, ch-1] = self.sounds['target']\n",
    "            \n",
    "        t0 = time.time()\n",
    "        with open(self.cfg['file_path'], 'a') as f:\n",
    "            f.write(\",\".join([str(x) for x in (t0, 2, speaker1, speaker2)]) + \"\\n\")\n",
    "        \n",
    "        self.stream.write(to_play)\n",
    "        \n",
    "    def noise(self):\n",
    "        to_play = np.zeros((len(self.sounds['noise']), self.cfg['n_channels']), dtype='float32')\n",
    "        for ch in self.cfg['sounds']['noise']['channels']:\n",
    "            to_play[:, ch-1] = self.sounds['noise']\n",
    "        \n",
    "        t0 = time.time()\n",
    "        with open(self.cfg['file_path'], 'a') as f:\n",
    "            f.write(\",\".join([str(x) for x in (t0, -1)]) + \"\\n\")\n",
    "        \n",
    "        self.stream.write(to_play)\n",
    "            \n",
    "    def play_non_blocking(self, sound_id, hd_angle=0):\n",
    "        if sound_id == 'target':\n",
    "            tf = threading.Timer(0, self.target, args=[hd_angle])\n",
    "        elif sound_id == 'noise':\n",
    "            tf = threading.Timer(0, self.noise, args=[])\n",
    "        tf.start()\n",
    "        self.timers.append(tf)\n",
    "        \n",
    "    def stop(self):\n",
    "        for t in self.timers:\n",
    "            t.cancel()\n",
    "        self.stream.stop()"
   ]
  },
  {
   "cell_type": "markdown",
   "metadata": {},
   "source": [
    "### Testing sound controller for Precedence project"
   ]
  },
  {
   "cell_type": "code",
   "execution_count": 1,
   "metadata": {},
   "outputs": [],
   "source": [
    "import numpy as np\n",
    "import time, os\n",
    "from sound import SoundControllerPR"
   ]
  },
  {
   "cell_type": "code",
   "execution_count": 2,
   "metadata": {},
   "outputs": [],
   "source": [
    "sc = SoundControllerPR(1, SoundControllerPR.default_cfg)"
   ]
  },
  {
   "cell_type": "code",
   "execution_count": 6,
   "metadata": {},
   "outputs": [],
   "source": [
    "sc.play_non_blocking('target', 0)"
   ]
  },
  {
   "cell_type": "code",
   "execution_count": 7,
   "metadata": {},
   "outputs": [],
   "source": [
    "sc.stop()"
   ]
  },
  {
   "cell_type": "markdown",
   "metadata": {},
   "source": [
    "### Building sound stack"
   ]
  },
  {
   "cell_type": "code",
   "execution_count": 2,
   "metadata": {},
   "outputs": [],
   "source": [
    "import numpy as np\n",
    "import time, os\n",
    "from sound import SoundController\n",
    "\n",
    "cfg = SoundController.default_cfg\n",
    "sounds = SoundController.get_tone_stack(cfg)"
   ]
  },
  {
   "cell_type": "code",
   "execution_count": 3,
   "metadata": {},
   "outputs": [
    {
     "data": {
      "image/png": "[encoded data removed]",
      "text/plain": [
       "<Figure size 432x288 with 1 Axes>"
      ]
     },
     "metadata": {
      "needs_background": "light"
     },
     "output_type": "display_data"
    }
   ],
   "source": [
    "import matplotlib.pyplot as plt\n",
    "\n",
    "_ = plt.plot(sounds['noise'])"
   ]
  },
  {
   "cell_type": "markdown",
   "metadata": {},
   "source": [
    "### Roving and onset window"
   ]
  },
  {
   "cell_type": "code",
   "execution_count": 5,
   "metadata": {},
   "outputs": [],
   "source": [
    "from sound import SoundController\n",
    "\n",
    "duration = 0.05\n",
    "freq = 440\n",
    "\n",
    "tone = SoundController.get_pure_tone(freq, duration)\n",
    "tone = tone * SoundController.get_cos_window(tone, 0.01)"
   ]
  },
  {
   "cell_type": "code",
   "execution_count": 6,
   "metadata": {},
   "outputs": [
    {
     "data": {
      "text/plain": [
       "[<matplotlib.lines.Line2D at 0xab1e490>]"
      ]
     },
     "execution_count": 6,
     "metadata": {},
     "output_type": "execute_result"
    },
    {
     "data": {
      "image/png": "[encoded data removed]",
      "text/plain": [
       "<Figure size 432x288 with 1 Axes>"
      ]
     },
     "metadata": {
      "needs_background": "light"
     },
     "output_type": "display_data"
    }
   ],
   "source": [
    "import matplotlib.pyplot as plt\n",
    "plt.plot(tone)"
   ]
  },
  {
   "cell_type": "markdown",
   "metadata": {},
   "source": [
    "### Building noise"
   ]
  },
  {
   "cell_type": "code",
   "execution_count": 3,
   "metadata": {},
   "outputs": [],
   "source": [
    "import numpy as np\n",
    "from scipy.signal import lfilter\n",
    "\n",
    "sample_rate = 44100\n",
    "\n",
    "filter_a = np.array([0.0075, 0.0225, 0.0225, 0.0075])\n",
    "filter_b = np.array([1.0000,-2.1114, 1.5768,-0.4053])\n",
    "\n",
    "noise = np.random.randn(3*sample_rate)\n",
    "noise = lfilter(filter_a, filter_b, noise)\n",
    "noise = noise / np.abs(noise).max() * 0.5\n",
    "noise = noise.astype(np.float32)"
   ]
  },
  {
   "cell_type": "code",
   "execution_count": 4,
   "metadata": {
    "scrolled": false
   },
   "outputs": [
    {
     "data": {
      "text/plain": [
       "[<matplotlib.lines.Line2D at 0xa85b550>]"
      ]
     },
     "execution_count": 4,
     "metadata": {},
     "output_type": "execute_result"
    },
    {
     "data": {
      "image/png": "[encoded data removed]",
      "text/plain": [
       "<Figure size 432x288 with 1 Axes>"
      ]
     },
     "metadata": {
      "needs_background": "light"
     },
     "output_type": "display_data"
    }
   ],
   "source": [
    "import matplotlib.pyplot as plt\n",
    "\n",
    "plt.plot(noise)"
   ]
  },
  {
   "cell_type": "markdown",
   "metadata": {},
   "source": [
    "### Testing sound pulses without MP"
   ]
  },
  {
   "cell_type": "code",
   "execution_count": 1,
   "metadata": {},
   "outputs": [
    {
     "ename": "KeyboardInterrupt",
     "evalue": "",
     "output_type": "error",
     "traceback": [
      "\u001b[1;31m---------------------------------------------------------------------------\u001b[0m",
      "\u001b[1;31mKeyboardInterrupt\u001b[0m                         Traceback (most recent call last)",
      "\u001b[1;32m<ipython-input-1-c2b7fcf1451e>\u001b[0m in \u001b[0;36m<module>\u001b[1;34m\u001b[0m\n\u001b[0;32m     12\u001b[0m \u001b[0mcfg\u001b[0m \u001b[1;33m=\u001b[0m \u001b[0mSoundController\u001b[0m\u001b[1;33m.\u001b[0m\u001b[0mdefault_cfg\u001b[0m\u001b[1;33m\u001b[0m\u001b[1;33m\u001b[0m\u001b[0m\n\u001b[0;32m     13\u001b[0m \u001b[1;31m#cfg['device'] = [1, 26]  # 'M-Audio Delta ASIO'\u001b[0m\u001b[1;33m\u001b[0m\u001b[1;33m\u001b[0m\u001b[1;33m\u001b[0m\u001b[0m\n\u001b[1;32m---> 14\u001b[1;33m \u001b[0mSoundController\u001b[0m\u001b[1;33m.\u001b[0m\u001b[0mrun\u001b[0m\u001b[1;33m(\u001b[0m\u001b[0mselector\u001b[0m\u001b[1;33m,\u001b[0m \u001b[0mstatus\u001b[0m\u001b[1;33m,\u001b[0m \u001b[0mcfg\u001b[0m\u001b[1;33m)\u001b[0m\u001b[1;33m\u001b[0m\u001b[1;33m\u001b[0m\u001b[0m\n\u001b[0m\u001b[0;32m     15\u001b[0m \u001b[1;33m\u001b[0m\u001b[0m\n\u001b[0;32m     16\u001b[0m \u001b[1;31m# nothing happens for a second\u001b[0m\u001b[1;33m\u001b[0m\u001b[1;33m\u001b[0m\u001b[1;33m\u001b[0m\u001b[0m\n",
      "\u001b[1;32mD:\\runSIT\\controllers\\sound.py\u001b[0m in \u001b[0;36mrun\u001b[1;34m(cls, selector, status, cfg)\u001b[0m\n\u001b[0;32m    134\u001b[0m                 \u001b[0mroving\u001b[0m \u001b[1;33m=\u001b[0m \u001b[1;36m10\u001b[0m\u001b[1;33m**\u001b[0m\u001b[1;33m(\u001b[0m\u001b[1;33m(\u001b[0m\u001b[0mnp\u001b[0m\u001b[1;33m.\u001b[0m\u001b[0mrandom\u001b[0m\u001b[1;33m.\u001b[0m\u001b[0mrand\u001b[0m\u001b[1;33m(\u001b[0m\u001b[1;33m)\u001b[0m \u001b[1;33m*\u001b[0m \u001b[0mcfg\u001b[0m\u001b[1;33m[\u001b[0m\u001b[1;34m'roving'\u001b[0m\u001b[1;33m]\u001b[0m \u001b[1;33m-\u001b[0m \u001b[0mcfg\u001b[0m\u001b[1;33m[\u001b[0m\u001b[1;34m'roving'\u001b[0m\u001b[1;33m]\u001b[0m\u001b[1;33m/\u001b[0m\u001b[1;36m2.0\u001b[0m\u001b[1;33m)\u001b[0m\u001b[1;33m/\u001b[0m\u001b[1;36m20.\u001b[0m\u001b[1;33m)\u001b[0m\u001b[1;33m\u001b[0m\u001b[1;33m\u001b[0m\u001b[0m\n\u001b[0;32m    135\u001b[0m                 \u001b[0mroving\u001b[0m \u001b[1;33m=\u001b[0m \u001b[0mroving\u001b[0m \u001b[1;32mif\u001b[0m \u001b[0mint\u001b[0m\u001b[1;33m(\u001b[0m\u001b[0mselector\u001b[0m\u001b[1;33m.\u001b[0m\u001b[0mvalue\u001b[0m\u001b[1;33m)\u001b[0m \u001b[1;33m>\u001b[0m \u001b[1;33m-\u001b[0m\u001b[1;36m1\u001b[0m \u001b[1;32melse\u001b[0m \u001b[1;36m1\u001b[0m  \u001b[1;31m# no roving for noise\u001b[0m\u001b[1;33m\u001b[0m\u001b[1;33m\u001b[0m\u001b[0m\n\u001b[1;32m--> 136\u001b[1;33m                 \u001b[0mstream\u001b[0m\u001b[1;33m.\u001b[0m\u001b[0mwrite\u001b[0m\u001b[1;33m(\u001b[0m\u001b[0msounds\u001b[0m\u001b[1;33m[\u001b[0m\u001b[0mcommutator\u001b[0m\u001b[1;33m[\u001b[0m\u001b[0mint\u001b[0m\u001b[1;33m(\u001b[0m\u001b[0mselector\u001b[0m\u001b[1;33m.\u001b[0m\u001b[0mvalue\u001b[0m\u001b[1;33m)\u001b[0m\u001b[1;33m]\u001b[0m\u001b[1;33m]\u001b[0m \u001b[1;33m*\u001b[0m \u001b[0mroving\u001b[0m\u001b[1;33m)\u001b[0m\u001b[1;33m\u001b[0m\u001b[1;33m\u001b[0m\u001b[0m\n\u001b[0m\u001b[0;32m    137\u001b[0m                 \u001b[1;32mwith\u001b[0m \u001b[0mopen\u001b[0m\u001b[1;33m(\u001b[0m\u001b[0mcfg\u001b[0m\u001b[1;33m[\u001b[0m\u001b[1;34m'file_path'\u001b[0m\u001b[1;33m]\u001b[0m\u001b[1;33m,\u001b[0m \u001b[1;34m'a'\u001b[0m\u001b[1;33m)\u001b[0m \u001b[1;32mas\u001b[0m \u001b[0mf\u001b[0m\u001b[1;33m:\u001b[0m\u001b[1;33m\u001b[0m\u001b[1;33m\u001b[0m\u001b[0m\n\u001b[0;32m    138\u001b[0m                     \u001b[0mf\u001b[0m\u001b[1;33m.\u001b[0m\u001b[0mwrite\u001b[0m\u001b[1;33m(\u001b[0m\u001b[1;34m\",\"\u001b[0m\u001b[1;33m.\u001b[0m\u001b[0mjoin\u001b[0m\u001b[1;33m(\u001b[0m\u001b[1;33m[\u001b[0m\u001b[0mstr\u001b[0m\u001b[1;33m(\u001b[0m\u001b[0mx\u001b[0m\u001b[1;33m)\u001b[0m \u001b[1;32mfor\u001b[0m \u001b[0mx\u001b[0m \u001b[1;32min\u001b[0m \u001b[1;33m(\u001b[0m\u001b[0mt0\u001b[0m\u001b[1;33m,\u001b[0m \u001b[0mselector\u001b[0m\u001b[1;33m.\u001b[0m\u001b[0mvalue\u001b[0m\u001b[1;33m)\u001b[0m\u001b[1;33m]\u001b[0m\u001b[1;33m)\u001b[0m \u001b[1;33m+\u001b[0m \u001b[1;34m\"\\n\"\u001b[0m\u001b[1;33m)\u001b[0m\u001b[1;33m\u001b[0m\u001b[1;33m\u001b[0m\u001b[0m\n",
      "\u001b[1;32m~\\.conda\\envs\\runsit\\lib\\site-packages\\sounddevice.py\u001b[0m in \u001b[0;36mwrite\u001b[1;34m(self, data)\u001b[0m\n\u001b[0;32m   1532\u001b[0m         \u001b[1;32mif\u001b[0m \u001b[1;32mnot\u001b[0m \u001b[0mdata\u001b[0m\u001b[1;33m.\u001b[0m\u001b[0mflags\u001b[0m\u001b[1;33m.\u001b[0m\u001b[0mc_contiguous\u001b[0m\u001b[1;33m:\u001b[0m\u001b[1;33m\u001b[0m\u001b[1;33m\u001b[0m\u001b[0m\n\u001b[0;32m   1533\u001b[0m             \u001b[1;32mraise\u001b[0m \u001b[0mTypeError\u001b[0m\u001b[1;33m(\u001b[0m\u001b[1;34m'data must be C-contiguous'\u001b[0m\u001b[1;33m)\u001b[0m\u001b[1;33m\u001b[0m\u001b[1;33m\u001b[0m\u001b[0m\n\u001b[1;32m-> 1534\u001b[1;33m         \u001b[1;32mreturn\u001b[0m \u001b[0mRawOutputStream\u001b[0m\u001b[1;33m.\u001b[0m\u001b[0mwrite\u001b[0m\u001b[1;33m(\u001b[0m\u001b[0mself\u001b[0m\u001b[1;33m,\u001b[0m \u001b[0mdata\u001b[0m\u001b[1;33m)\u001b[0m\u001b[1;33m\u001b[0m\u001b[1;33m\u001b[0m\u001b[0m\n\u001b[0m\u001b[0;32m   1535\u001b[0m \u001b[1;33m\u001b[0m\u001b[0m\n\u001b[0;32m   1536\u001b[0m \u001b[1;33m\u001b[0m\u001b[0m\n",
      "\u001b[1;32m~\\.conda\\envs\\runsit\\lib\\site-packages\\sounddevice.py\u001b[0m in \u001b[0;36mwrite\u001b[1;34m(self, data)\u001b[0m\n\u001b[0;32m   1319\u001b[0m         \u001b[1;32mif\u001b[0m \u001b[0mremainder\u001b[0m\u001b[1;33m:\u001b[0m\u001b[1;33m\u001b[0m\u001b[1;33m\u001b[0m\u001b[0m\n\u001b[0;32m   1320\u001b[0m             \u001b[1;32mraise\u001b[0m \u001b[0mValueError\u001b[0m\u001b[1;33m(\u001b[0m\u001b[1;34m'Number of samples not divisible by channels'\u001b[0m\u001b[1;33m)\u001b[0m\u001b[1;33m\u001b[0m\u001b[1;33m\u001b[0m\u001b[0m\n\u001b[1;32m-> 1321\u001b[1;33m         \u001b[0merr\u001b[0m \u001b[1;33m=\u001b[0m \u001b[0m_lib\u001b[0m\u001b[1;33m.\u001b[0m\u001b[0mPa_WriteStream\u001b[0m\u001b[1;33m(\u001b[0m\u001b[0mself\u001b[0m\u001b[1;33m.\u001b[0m\u001b[0m_ptr\u001b[0m\u001b[1;33m,\u001b[0m \u001b[0mdata\u001b[0m\u001b[1;33m,\u001b[0m \u001b[0mframes\u001b[0m\u001b[1;33m)\u001b[0m\u001b[1;33m\u001b[0m\u001b[1;33m\u001b[0m\u001b[0m\n\u001b[0m\u001b[0;32m   1322\u001b[0m         \u001b[1;32mif\u001b[0m \u001b[0merr\u001b[0m \u001b[1;33m==\u001b[0m \u001b[0m_lib\u001b[0m\u001b[1;33m.\u001b[0m\u001b[0mpaOutputUnderflowed\u001b[0m\u001b[1;33m:\u001b[0m\u001b[1;33m\u001b[0m\u001b[1;33m\u001b[0m\u001b[0m\n\u001b[0;32m   1323\u001b[0m             \u001b[0munderflowed\u001b[0m \u001b[1;33m=\u001b[0m \u001b[1;32mTrue\u001b[0m\u001b[1;33m\u001b[0m\u001b[1;33m\u001b[0m\u001b[0m\n",
      "\u001b[1;31mKeyboardInterrupt\u001b[0m: "
     ]
    }
   ],
   "source": [
    "import numpy as np\n",
    "import time, os\n",
    "import multiprocess as mp\n",
    "from sound import SoundController\n",
    "\n",
    "# sound selector: 0 - silence, 1 - tone 1, 2 - tone 2\n",
    "selector = mp.Value('i', -1)\n",
    "\n",
    "# loggin status: 1 - idle, 2 - running, 0 - stopped\n",
    "status = mp.Value('i', 2)\n",
    "\n",
    "cfg = SoundController.default_cfg\n",
    "#cfg['device'] = [1, 26]  # 'M-Audio Delta ASIO'\n",
    "SoundController.run(selector, status, cfg)\n",
    "\n",
    "# nothing happens for a second\n",
    "time.sleep(1)\n",
    "\n",
    "status.value = 2\n",
    "for i in range(2):\n",
    "    time.sleep(1)\n",
    "    selector.value = -1 if selector.value == 2 else 2\n",
    "\n",
    "# stop\n",
    "status.value = 0\n",
    "time.sleep(0.2)"
   ]
  },
  {
   "cell_type": "markdown",
   "metadata": {},
   "source": [
    "### Testing sound pulses with MP"
   ]
  },
  {
   "cell_type": "code",
   "execution_count": 1,
   "metadata": {},
   "outputs": [],
   "source": [
    "import numpy as np\n",
    "import time, os\n",
    "import multiprocess as mp\n",
    "from sound import SoundController\n",
    "\n",
    "# sound selector: 0 - silence, 1 - tone 1, 2 - tone 2\n",
    "selector = mp.Value('i', -1)\n",
    "\n",
    "# loggin status: 1 - idle, 2 - running, 0 - stopped\n",
    "status = mp.Value('i', 1)\n",
    "\n",
    "cfg = SoundController.default_cfg\n",
    "cfg['device'] = [1, 26]  # 'M-Audio Delta ASIO'\n",
    "sc = mp.Process(target=SoundController.run, args=(selector, status, cfg))\n",
    "sc.start()\n",
    "\n",
    "# nothing happens for a second\n",
    "time.sleep(1)\n",
    "\n",
    "status.value = 2\n",
    "for i in range(3):\n",
    "    time.sleep(1)\n",
    "    selector.value = -1 if selector.value == 1 else 1\n",
    "\n",
    "# stop\n",
    "status.value = 0\n",
    "time.sleep(0.2)\n",
    "sc.join()"
   ]
  },
  {
   "cell_type": "code",
   "execution_count": 3,
   "metadata": {
    "scrolled": false
   },
   "outputs": [
    {
     "data": {
      "text/plain": [
       "[<matplotlib.lines.Line2D at 0x8703850>]"
      ]
     },
     "execution_count": 3,
     "metadata": {},
     "output_type": "execute_result"
    },
    {
     "data": {
      "image/png": "[encoded data removed]",
      "text/plain": [
       "<Figure size 432x288 with 1 Axes>"
      ]
     },
     "metadata": {
      "needs_background": "light"
     },
     "output_type": "display_data"
    }
   ],
   "source": [
    "import matplotlib.pyplot as plt\n",
    "\n",
    "ds = np.loadtxt('test_sound_log.csv', delimiter=',', skiprows=1)\n",
    "plt.plot(np.diff(ds[:, 0]))"
   ]
  },
  {
   "cell_type": "markdown",
   "metadata": {},
   "source": [
    "### Sounddevice playground"
   ]
  },
  {
   "cell_type": "code",
   "execution_count": 1,
   "metadata": {},
   "outputs": [
    {
     "data": {
      "text/plain": [
       "[(24,\n",
       "  {'name': 'MOTU Audio ASIO',\n",
       "   'hostapi': 2,\n",
       "   'max_input_channels': 14,\n",
       "   'max_output_channels': 14,\n",
       "   'default_low_input_latency': 0.005804988662131519,\n",
       "   'default_low_output_latency': 0.005804988662131519,\n",
       "   'default_high_input_latency': 0.005804988662131519,\n",
       "   'default_high_output_latency': 0.005804988662131519,\n",
       "   'default_samplerate': 44100.0})]"
      ]
     },
     "execution_count": 1,
     "metadata": {},
     "output_type": "execute_result"
    }
   ],
   "source": [
    "import sounddevice as sd\n",
    "[(i, x) for i, x in enumerate(sd.query_devices()) if x['name'].find('ASIO') > 0]"
   ]
  },
  {
   "cell_type": "code",
   "execution_count": 2,
   "metadata": {},
   "outputs": [],
   "source": [
    "import sounddevice as sd\n",
    "import numpy as np\n",
    "#import keyboard  # using module keyboard\n",
    "\n",
    "sd.default.device = [1, 24]\n",
    "sd.default.samplerate = 44100\n",
    "stream = sd.OutputStream(samplerate=44100, channels=14, dtype='float32')"
   ]
  },
  {
   "cell_type": "code",
   "execution_count": 2,
   "metadata": {},
   "outputs": [],
   "source": [
    "# 3rd channel - left arena speaker\n",
    "# 1st channel - right arena speaker"
   ]
  },
  {
   "cell_type": "code",
   "execution_count": 3,
   "metadata": {},
   "outputs": [],
   "source": [
    "duration = 2.5\n",
    "\n",
    "x1 = np.linspace(0, duration * 220 * 2*np.pi, int(duration*44100), dtype=np.float32)\n",
    "x2 = np.linspace(0, duration * 440 * 2*np.pi, int(duration*44100), dtype=np.float32)\n",
    "y1 = np.sin(x1)\n",
    "y2 = np.sin(x2)\n",
    "sil = np.zeros(len(x1), dtype=np.float32)"
   ]
  },
  {
   "cell_type": "code",
   "execution_count": 15,
   "metadata": {},
   "outputs": [],
   "source": [
    "stream.start()\n",
    "stream.write(np.column_stack([sil, sil, sil, sil, sil, sil, sil, sil, sil, y1, sil, sil, sil, sil]) * 0.8)\n",
    "stream.stop()\n",
    "\n",
    "# [None, None, 1, 2, 3, 4, 5, 6, 7, 8, None, None, None, None]"
   ]
  },
  {
   "cell_type": "code",
   "execution_count": 5,
   "metadata": {},
   "outputs": [],
   "source": [
    "stream.start()\n",
    "\n",
    "try:\n",
    "    while True:  # making a loop\n",
    "        if keyboard.is_pressed('q'):  # if key 'q' is pressed \n",
    "            break  # finishing the loop\n",
    "\n",
    "        stream.write(np.column_stack([y1, sil, sil, sil, sil, sil, sil, sil, sil, sil]) * 0.8)\n",
    "        #stream.write(np.column_stack([y2, y2, y2, y2, y2, y2, y2, y2, y2, y2]) * 0.8)\n",
    "    \n",
    "finally:\n",
    "    stream.stop()"
   ]
  },
  {
   "cell_type": "code",
   "execution_count": 7,
   "metadata": {},
   "outputs": [],
   "source": []
  },
  {
   "cell_type": "markdown",
   "metadata": {},
   "source": [
    "## Permanent sound in a separate audio stream"
   ]
  },
  {
   "cell_type": "code",
   "execution_count": 26,
   "metadata": {},
   "outputs": [],
   "source": [
    "import sounddevice as sd\n",
    "import numpy as np\n",
    "import os\n",
    "import threading\n",
    "from scipy.io import wavfile"
   ]
  },
  {
   "cell_type": "code",
   "execution_count": 12,
   "metadata": {
    "scrolled": true
   },
   "outputs": [
    {
     "data": {
      "text/plain": [
       "   0 Microsoft Sound Mapper - Input, MME (2 in, 0 out)\n",
       ">  1 MOTU S/PDIF (MOTU Audio Wave fo, MME (2 in, 0 out)\n",
       "   2 MOTU Reverb (MOTU Audio Wave fo, MME (2 in, 0 out)\n",
       "   3 MOTU UNUSED (MOTU Audio Wave fo, MME (2 in, 0 out)\n",
       "   4 MOTU Analog (MOTU Audio Wave fo, MME (2 in, 0 out)\n",
       "   5 MOTU Return (MOTU Audio Wave fo, MME (2 in, 0 out)\n",
       "   6 Microsoft Sound Mapper - Output, MME (0 in, 2 out)\n",
       "   7 Speakers (High Definition Audio, MME (0 in, 2 out)\n",
       "   8 MOTU S/PDIF (MOTU Audio Wave fo, MME (0 in, 2 out)\n",
       "   9 MOTU Main Out (MOTU Audio Wave , MME (0 in, 2 out)\n",
       "  10 MOTU Phones (MOTU Audio Wave fo, MME (0 in, 2 out)\n",
       "  11 MOTU Analog (MOTU Audio Wave fo, MME (0 in, 2 out)\n",
       "  12 Primary Sound Capture Driver, Windows DirectSound (2 in, 0 out)\n",
       "  13 MOTU S/PDIF (MOTU Audio Wave for 64 bit), Windows DirectSound (2 in, 0 out)\n",
       "  14 MOTU Reverb (MOTU Audio Wave for 64 bit), Windows DirectSound (2 in, 0 out)\n",
       "  15 MOTU UNUSED (MOTU Audio Wave for 64 bit), Windows DirectSound (2 in, 0 out)\n",
       "  16 MOTU Analog (MOTU Audio Wave for 64 bit), Windows DirectSound (2 in, 0 out)\n",
       "  17 MOTU Return (MOTU Audio Wave for 64 bit), Windows DirectSound (2 in, 0 out)\n",
       "  18 Primary Sound Driver, Windows DirectSound (0 in, 2 out)\n",
       "  19 Speakers (High Definition Audio Device), Windows DirectSound (0 in, 2 out)\n",
       "  20 MOTU S/PDIF (MOTU Audio Wave for 64 bit), Windows DirectSound (0 in, 2 out)\n",
       "  21 MOTU Main Out (MOTU Audio Wave for 64 bit), Windows DirectSound (0 in, 2 out)\n",
       "  22 MOTU Phones (MOTU Audio Wave for 64 bit), Windows DirectSound (0 in, 2 out)\n",
       "  23 MOTU Analog (MOTU Audio Wave for 64 bit), Windows DirectSound (0 in, 2 out)\n",
       "< 24 MOTU Audio ASIO, ASIO (14 in, 14 out)\n",
       "  25 MOTU S/PDIF (MOTU Audio Wave for 64 bit), Windows WASAPI (0 in, 2 out)\n",
       "  26 MOTU Main Out (MOTU Audio Wave for 64 bit), Windows WASAPI (0 in, 2 out)\n",
       "  27 MOTU Phones (MOTU Audio Wave for 64 bit), Windows WASAPI (0 in, 2 out)\n",
       "  28 MOTU Analog (MOTU Audio Wave for 64 bit), Windows WASAPI (0 in, 8 out)\n",
       "  29 Speakers (High Definition Audio Device), Windows WASAPI (0 in, 2 out)\n",
       "  30 MOTU Reverb (MOTU Audio Wave for 64 bit), Windows WASAPI (2 in, 0 out)\n",
       "  31 MOTU UNUSED (MOTU Audio Wave for 64 bit), Windows WASAPI (2 in, 0 out)\n",
       "  32 , Windows WASAPI (0 in, 0 out)\n",
       "  33 MOTU S/PDIF (MOTU Audio Wave for 64 bit), Windows WASAPI (2 in, 0 out)\n",
       "  34 MOTU Return (MOTU Audio Wave for 64 bit), Windows WASAPI (2 in, 0 out)\n",
       "  35 MOTU Analog (MOTU Analog), Windows WDM-KS (0 in, 8 out)\n",
       "  36 MOTU Phones (MOTU Phones), Windows WDM-KS (0 in, 2 out)\n",
       "  37 MOTU Analog (MOTU Analog), Windows WDM-KS (8 in, 0 out)\n",
       "  38 MOTU S/PDIF (MOTU S/PDIF), Windows WDM-KS (2 in, 0 out)\n",
       "  39 MOTU S/PDIF (MOTU S/PDIF), Windows WDM-KS (0 in, 2 out)\n",
       "  40 MOTU Main Out (MOTU Main Out), Windows WDM-KS (0 in, 2 out)\n",
       "  41 MOTU Return (MOTU Return), Windows WDM-KS (2 in, 0 out)\n",
       "  42 MOTU Reverb (MOTU Reverb), Windows WDM-KS (2 in, 0 out)\n",
       "  43 MOTU UNUSED (MOTU UNUSED), Windows WDM-KS (2 in, 0 out)\n",
       "  44 Speakers (HD Audio Speaker), Windows WDM-KS (0 in, 2 out)"
      ]
     },
     "execution_count": 12,
     "metadata": {},
     "output_type": "execute_result"
    }
   ],
   "source": [
    "sd.query_devices()"
   ]
  },
  {
   "cell_type": "code",
   "execution_count": 10,
   "metadata": {},
   "outputs": [
    {
     "name": "stdout",
     "output_type": "stream",
     "text": [
      "48000 (2880512, 2) int16\n"
     ]
    }
   ],
   "source": [
    "wav_fname = os.path.join('..', 'assets', 'stream1.wav')\n",
    "samplerate, data = wavfile.read(wav_fname)\n",
    "\n",
    "print(samplerate, data.shape, data.dtype)"
   ]
  },
  {
   "cell_type": "code",
   "execution_count": 12,
   "metadata": {},
   "outputs": [
    {
     "name": "stdout",
     "output_type": "stream",
     "text": [
      "playing\n",
      "playing\n",
      "playing\n",
      "playing\n",
      "playing\n"
     ]
    }
   ],
   "source": [
    "stream = sd.OutputStream(samplerate=samplerate, channels=2, dtype=data.dtype)\n",
    "\n",
    "stream.start()\n",
    "\n",
    "for i in range(5):\n",
    "    stream.write(data[50000:100000])\n",
    "    print('playing')\n",
    "    \n",
    "stream.stop()"
   ]
  },
  {
   "cell_type": "code",
   "execution_count": 27,
   "metadata": {},
   "outputs": [
    {
     "name": "stdout",
     "output_type": "stream",
     "text": [
      "Continuous sound stream started at 48000 Hz\n"
     ]
    }
   ],
   "source": [
    "cfg = ContinuousSoundStream.default_cfg\n",
    "\n",
    "cst = ContinuousSoundStream(cfg)\n",
    "cst.start()"
   ]
  },
  {
   "cell_type": "code",
   "execution_count": 28,
   "metadata": {},
   "outputs": [
    {
     "name": "stdout",
     "output_type": "stream",
     "text": [
      "Camera released\n"
     ]
    }
   ],
   "source": [
    "cst.stop()"
   ]
  },
  {
   "cell_type": "code",
   "execution_count": null,
   "metadata": {},
   "outputs": [],
   "source": []
  }
 ],
 "metadata": {
  "kernelspec": {
   "display_name": "Python 3",
   "language": "python",
   "name": "python3"
  },
  "language_info": {
   "codemirror_mode": {
    "name": "ipython",
    "version": 3
   },
   "file_extension": ".py",
   "mimetype": "text/x-python",
   "name": "python",
   "nbconvert_exporter": "python",
   "pygments_lexer": "ipython3",
   "version": "3.8.8"
  }
 },
 "nbformat": 4,
 "nbformat_minor": 4
}
