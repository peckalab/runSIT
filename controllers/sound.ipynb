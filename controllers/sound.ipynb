{
 "cells": [
  {
   "cell_type": "code",
   "execution_count": 1,
   "metadata": {},
   "outputs": [],
   "source": [
    "import numpy as np\n",
    "import time, os\n",
    "import matplotlib.pyplot as plt\n",
    "import multiprocess as mp"
   ]
  },
  {
   "cell_type": "code",
   "execution_count": 2,
   "metadata": {},
   "outputs": [
    {
     "name": "stdout",
     "output_type": "stream",
     "text": [
      "Overwriting sound.py\n"
     ]
    }
   ],
   "source": [
    "%%writefile sound.py\n",
    "\n",
    "class SoundController:\n",
    "    # https://python-sounddevice.readthedocs.io/en/0.3.15/api/streams.html#sounddevice.OutputStream\n",
    "    \n",
    "    default_cfg = {\n",
    "        'device': [1, 26],  # [1, 6] for PC output\n",
    "        'frequencies': [440, 880],\n",
    "        'pulse_duration': 0.05,\n",
    "        'sample_rate': 44100,\n",
    "        'latency': 0.25,\n",
    "        'volume': 0.75,\n",
    "        'file_path': 'test_sound_log.csv',\n",
    "    }\n",
    "    \n",
    "    @classmethod\n",
    "    def run(cls, selector, status, cfg):\n",
    "        \"\"\"\n",
    "        selector        mp.Value object to set the sound to be played\n",
    "        status          mp.Value object to stop the loop\n",
    "        \"\"\"\n",
    "        import sounddevice as sd  # must be inside the function\n",
    "        import numpy as np\n",
    "        import time\n",
    "\n",
    "        def get_pure_tone(freq, duration, sample_rate=44100):\n",
    "            x = np.linspace(0, duration * freq * 2*np.pi, int(duration*sample_rate), dtype=np.float32)\n",
    "            return np.sin(x)\n",
    "\n",
    "#         def get_tone_stack(frequencies, pulse_duration, volume=0.75, sample_rate=44100):\n",
    "#             silence = np.zeros(2, dtype='float32')\n",
    "#             sounds = {0: np.column_stack((silence, silence))}\n",
    "\n",
    "#             for i, freq in enumerate(frequencies):\n",
    "#                 # TODO add tone onset offset\n",
    "#                 tone = get_pure_tone(freq, pulse_duration, sample_rate) * volume           \n",
    "#                 sounds[i + 1] = np.column_stack((tone, tone))\n",
    "\n",
    "#             return sounds\n",
    "        \n",
    "        def get_tone_stack(frequencies, pulse_duration, volume=0.75, sample_rate=44100):\n",
    "            silence = np.zeros(2, dtype='float32')\n",
    "            sounds = {0: np.column_stack((silence, silence, silence, silence))}\n",
    "\n",
    "            for i, freq in enumerate(frequencies):\n",
    "                # TODO add tone onset offset\n",
    "                tone = get_pure_tone(freq, pulse_duration, sample_rate) * volume           \n",
    "                nothing = np.zeros(len(tone))\n",
    "                sounds[i + 1] = np.column_stack((nothing, tone, tone, tone))\n",
    "\n",
    "            return sounds\n",
    "        \n",
    "        sounds = get_tone_stack(cfg['frequencies'], cfg['pulse_duration'])\n",
    "\n",
    "        sd.default.device = cfg['device']\n",
    "        sd.default.samplerate = cfg['sample_rate']\n",
    "        stream = sd.OutputStream(samplerate=cfg['sample_rate'], channels=4, dtype='float32', blocksize=256)\n",
    "        stream.start()\n",
    "\n",
    "        print(sd.default.device)\n",
    "        \n",
    "        next_beat = time.time() + cfg['latency']\n",
    "        with open(cfg['file_path'], 'w') as f:\n",
    "            f.write(\"time,id\\n\")\n",
    "\n",
    "        while status.value > 0:\n",
    "            if status.value == 2:  # running state\n",
    "                t0 = time.time()\n",
    "                if t0 < next_beat:\n",
    "                    #time.sleep(0.0001)  # not to spin the wheels too much\n",
    "                    if stream.write_available > 2:\n",
    "                        stream.write(sounds[0])  # silence\n",
    "                    continue\n",
    "\n",
    "                stream.write(sounds[int(selector.value)])\n",
    "                with open(cfg['file_path'], 'a') as f:\n",
    "                    f.write(\",\".join([str(x) for x in (t0, selector.value)]) + \"\\n\")\n",
    "\n",
    "                next_beat += cfg['latency']\n",
    "                \n",
    "                if stream.write_available > 2:\n",
    "                    stream.write(sounds[0])  # silence\n",
    "            \n",
    "            else:  # idle state\n",
    "                next_beat = time.time() + cfg['latency']\n",
    "                time.sleep(0.05)\n",
    "                \n",
    "        stream.stop()\n",
    "        print('Sound stopped')"
   ]
  },
  {
   "cell_type": "markdown",
   "metadata": {},
   "source": [
    "### Testing sound pulses"
   ]
  },
  {
   "cell_type": "code",
   "execution_count": 3,
   "metadata": {},
   "outputs": [],
   "source": [
    "from sound import SoundController\n",
    "\n",
    "# sound selector: 0 - silence, 1 - tone 1, 2 - tone 2\n",
    "selector = mp.Value('i', 1)\n",
    "\n",
    "# loggin status: 1 - idle, 2 - running, 0 - stopped\n",
    "status = mp.Value('i', 1)\n",
    "\n",
    "cfg = SoundController.default_cfg\n",
    "cfg['device'] = [1, 26]  # 'M-Audio Delta ASIO'\n",
    "sc = mp.Process(target=SoundController.run, args=(selector, status, cfg))\n",
    "sc.start()\n",
    "\n",
    "# nothing happens for a second\n",
    "time.sleep(1)\n",
    "\n",
    "# 2 seconds of tone 1\n",
    "status.value = 2\n",
    "time.sleep(2)\n",
    "\n",
    "# 2 seconds of tone 2\n",
    "selector.value = 2\n",
    "time.sleep(2)\n",
    "\n",
    "# stop\n",
    "status.value = 0\n",
    "time.sleep(0.2)\n",
    "sc.join()"
   ]
  },
  {
   "cell_type": "code",
   "execution_count": 5,
   "metadata": {},
   "outputs": [
    {
     "data": {
      "text/plain": [
       "[<matplotlib.lines.Line2D at 0x8714ac0>]"
      ]
     },
     "execution_count": 5,
     "metadata": {},
     "output_type": "execute_result"
    },
    {
     "data": {
      "image/png": "[encoded data removed]",
      "text/plain": [
       "<Figure size 432x288 with 1 Axes>"
      ]
     },
     "metadata": {
      "needs_background": "light"
     },
     "output_type": "display_data"
    }
   ],
   "source": [
    "ds = np.loadtxt('test_sound_log.csv', delimiter=',', skiprows=1)\n",
    "plt.plot(np.diff(ds[:, 0]))"
   ]
  },
  {
   "cell_type": "code",
   "execution_count": 1,
   "metadata": {},
   "outputs": [],
   "source": [
    "import sounddevice as sd\n",
    "import numpy as np\n",
    "\n",
    "sd.default.device = [26, 26]\n",
    "sd.default.samplerate = 44100\n",
    "stream = sd.OutputStream(samplerate=44100, channels=4, dtype='float32')\n",
    "stream.start()"
   ]
  },
  {
   "cell_type": "code",
   "execution_count": null,
   "metadata": {},
   "outputs": [],
   "source": [
    "# 3rd channel - left arena speaker\n",
    "# 1st channel - right arena speaker"
   ]
  },
  {
   "cell_type": "code",
   "execution_count": 17,
   "metadata": {},
   "outputs": [
    {
     "ename": "KeyboardInterrupt",
     "evalue": "",
     "output_type": "error",
     "traceback": [
      "\u001b[1;31m---------------------------------------------------------------------------\u001b[0m",
      "\u001b[1;31mKeyboardInterrupt\u001b[0m                         Traceback (most recent call last)",
      "\u001b[1;32m<ipython-input-17-a8faf5ebc1ff>\u001b[0m in \u001b[0;36m<module>\u001b[1;34m\u001b[0m\n\u001b[0;32m     11\u001b[0m     \u001b[1;32melse\u001b[0m\u001b[1;33m:\u001b[0m\u001b[1;33m\u001b[0m\u001b[1;33m\u001b[0m\u001b[0m\n\u001b[0;32m     12\u001b[0m         \u001b[0moutput\u001b[0m \u001b[1;33m=\u001b[0m \u001b[0mnp\u001b[0m\u001b[1;33m.\u001b[0m\u001b[0mcolumn_stack\u001b[0m\u001b[1;33m(\u001b[0m\u001b[1;33m[\u001b[0m\u001b[0msil\u001b[0m\u001b[1;33m,\u001b[0m \u001b[0msil\u001b[0m\u001b[1;33m,\u001b[0m \u001b[0my2\u001b[0m\u001b[1;33m,\u001b[0m \u001b[0msil\u001b[0m\u001b[1;33m]\u001b[0m\u001b[1;33m)\u001b[0m\u001b[1;33m\u001b[0m\u001b[1;33m\u001b[0m\u001b[0m\n\u001b[1;32m---> 13\u001b[1;33m     \u001b[0mstream\u001b[0m\u001b[1;33m.\u001b[0m\u001b[0mwrite\u001b[0m\u001b[1;33m(\u001b[0m\u001b[0moutput\u001b[0m\u001b[1;33m*\u001b[0m\u001b[1;36m0.5\u001b[0m\u001b[1;33m)\u001b[0m\u001b[1;33m\u001b[0m\u001b[1;33m\u001b[0m\u001b[0m\n\u001b[0m",
      "\u001b[1;32m~\\.conda\\envs\\runsit\\lib\\site-packages\\sounddevice.py\u001b[0m in \u001b[0;36mwrite\u001b[1;34m(self, data)\u001b[0m\n\u001b[0;32m   1532\u001b[0m         \u001b[1;32mif\u001b[0m \u001b[1;32mnot\u001b[0m \u001b[0mdata\u001b[0m\u001b[1;33m.\u001b[0m\u001b[0mflags\u001b[0m\u001b[1;33m.\u001b[0m\u001b[0mc_contiguous\u001b[0m\u001b[1;33m:\u001b[0m\u001b[1;33m\u001b[0m\u001b[1;33m\u001b[0m\u001b[0m\n\u001b[0;32m   1533\u001b[0m             \u001b[1;32mraise\u001b[0m \u001b[0mTypeError\u001b[0m\u001b[1;33m(\u001b[0m\u001b[1;34m'data must be C-contiguous'\u001b[0m\u001b[1;33m)\u001b[0m\u001b[1;33m\u001b[0m\u001b[1;33m\u001b[0m\u001b[0m\n\u001b[1;32m-> 1534\u001b[1;33m         \u001b[1;32mreturn\u001b[0m \u001b[0mRawOutputStream\u001b[0m\u001b[1;33m.\u001b[0m\u001b[0mwrite\u001b[0m\u001b[1;33m(\u001b[0m\u001b[0mself\u001b[0m\u001b[1;33m,\u001b[0m \u001b[0mdata\u001b[0m\u001b[1;33m)\u001b[0m\u001b[1;33m\u001b[0m\u001b[1;33m\u001b[0m\u001b[0m\n\u001b[0m\u001b[0;32m   1535\u001b[0m \u001b[1;33m\u001b[0m\u001b[0m\n\u001b[0;32m   1536\u001b[0m \u001b[1;33m\u001b[0m\u001b[0m\n",
      "\u001b[1;32m~\\.conda\\envs\\runsit\\lib\\site-packages\\sounddevice.py\u001b[0m in \u001b[0;36mwrite\u001b[1;34m(self, data)\u001b[0m\n\u001b[0;32m   1319\u001b[0m         \u001b[1;32mif\u001b[0m \u001b[0mremainder\u001b[0m\u001b[1;33m:\u001b[0m\u001b[1;33m\u001b[0m\u001b[1;33m\u001b[0m\u001b[0m\n\u001b[0;32m   1320\u001b[0m             \u001b[1;32mraise\u001b[0m \u001b[0mValueError\u001b[0m\u001b[1;33m(\u001b[0m\u001b[1;34m'Number of samples not divisible by channels'\u001b[0m\u001b[1;33m)\u001b[0m\u001b[1;33m\u001b[0m\u001b[1;33m\u001b[0m\u001b[0m\n\u001b[1;32m-> 1321\u001b[1;33m         \u001b[0merr\u001b[0m \u001b[1;33m=\u001b[0m \u001b[0m_lib\u001b[0m\u001b[1;33m.\u001b[0m\u001b[0mPa_WriteStream\u001b[0m\u001b[1;33m(\u001b[0m\u001b[0mself\u001b[0m\u001b[1;33m.\u001b[0m\u001b[0m_ptr\u001b[0m\u001b[1;33m,\u001b[0m \u001b[0mdata\u001b[0m\u001b[1;33m,\u001b[0m \u001b[0mframes\u001b[0m\u001b[1;33m)\u001b[0m\u001b[1;33m\u001b[0m\u001b[1;33m\u001b[0m\u001b[0m\n\u001b[0m\u001b[0;32m   1322\u001b[0m         \u001b[1;32mif\u001b[0m \u001b[0merr\u001b[0m \u001b[1;33m==\u001b[0m \u001b[0m_lib\u001b[0m\u001b[1;33m.\u001b[0m\u001b[0mpaOutputUnderflowed\u001b[0m\u001b[1;33m:\u001b[0m\u001b[1;33m\u001b[0m\u001b[1;33m\u001b[0m\u001b[0m\n\u001b[0;32m   1323\u001b[0m             \u001b[0munderflowed\u001b[0m \u001b[1;33m=\u001b[0m \u001b[1;32mTrue\u001b[0m\u001b[1;33m\u001b[0m\u001b[1;33m\u001b[0m\u001b[0m\n",
      "\u001b[1;31mKeyboardInterrupt\u001b[0m: "
     ]
    }
   ],
   "source": [
    "duration = 2\n",
    "x1 = np.linspace(0, duration * 110 * 2*np.pi, int(duration*44100), dtype=np.float32)\n",
    "x2 = np.linspace(0, duration * 220 * 2*np.pi, int(duration*44100), dtype=np.float32)\n",
    "y1 = np.sin(x1)\n",
    "y2 = np.sin(x2)\n",
    "sil = np.zeros(len(x1), dtype=np.float32)\n",
    "\n",
    "for i in range(50):\n",
    "    if i % 2 == 0:\n",
    "        output = np.column_stack([y1, sil, sil, sil])\n",
    "    else:\n",
    "        output = np.column_stack([sil, sil, y2, sil])\n",
    "    stream.write(output*0.5)"
   ]
  },
  {
   "cell_type": "code",
   "execution_count": 14,
   "metadata": {},
   "outputs": [
    {
     "data": {
      "text/plain": [
       "0"
      ]
     },
     "execution_count": 14,
     "metadata": {},
     "output_type": "execute_result"
    }
   ],
   "source": [
    "4 % 2"
   ]
  },
  {
   "cell_type": "code",
   "execution_count": null,
   "metadata": {},
   "outputs": [],
   "source": []
  },
  {
   "cell_type": "code",
   "execution_count": null,
   "metadata": {},
   "outputs": [],
   "source": []
  },
  {
   "cell_type": "code",
   "execution_count": 18,
   "metadata": {},
   "outputs": [],
   "source": [
    "stream.stop()"
   ]
  },
  {
   "cell_type": "code",
   "execution_count": null,
   "metadata": {},
   "outputs": [],
   "source": []
  }
 ],
 "metadata": {
  "kernelspec": {
   "display_name": "Python 3",
   "language": "python",
   "name": "python3"
  },
  "language_info": {
   "codemirror_mode": {
    "name": "ipython",
    "version": 3
   },
   "file_extension": ".py",
   "mimetype": "text/x-python",
   "name": "python",
   "nbconvert_exporter": "python",
   "pygments_lexer": "ipython3",
   "version": "3.8.8"
  }
 },
 "nbformat": 4,
 "nbformat_minor": 4
}
