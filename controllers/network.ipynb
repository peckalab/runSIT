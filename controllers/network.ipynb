{
 "cells": [
  {
   "cell_type": "code",
   "execution_count": 1,
   "id": "6bf0c069",
   "metadata": {},
   "outputs": [],
   "source": [
    "import zmq"
   ]
  },
  {
   "cell_type": "code",
   "execution_count": null,
   "id": "79b74365",
   "metadata": {},
   "outputs": [],
   "source": [
    "class OpenEphysSocket(object):\n",
    "    \"\"\"\n",
    "    Configuration on Windows:\n",
    "    - enable port (e.g. 5556) via Firewall rule. Control Panel -> Network and Internet ->\n",
    "        Network and Sharing Center -> Windows Firewall; New Rule -> Custom\n",
    "    - check open port via \"telnet <IP> <port>\" (enabling telnet client via Control Panel ->\n",
    "        Programs -> Turn Windows feature on or off; check Telnet Client. Then install with\n",
    "        pkgmgr /iu:\"TelnetClient\")\n",
    "    - network policies: cmd (WinKey+R) -> \"secpol.msc\" -> Network List Manager Policies\n",
    "    - test the latency / bandwidth: iperf (https://openmaniak.com/iperf.php):\n",
    "        iperf3.exe -c 192.168.0.2 -p 5556\n",
    "        iperf3.exe -s -p 5556\n",
    "    \"\"\"\n",
    "\n",
    "    def __init__(self, hostname='localhost', port=5556, verbose=False):\n",
    "        self.verbose = verbose\n",
    "\n",
    "        # TODO use Polls with timeouts etc.\n",
    "\n",
    "        self.ctx = zmq.Context()\n",
    "        self.sock = self.ctx.socket(zmq.REQ)\n",
    "        self.sock.setsockopt(zmq.LINGER, 0)\n",
    "        self.sock.setsockopt(zmq.RCVTIMEO, 5000)  # in millis\n",
    "\n",
    "        self.sock.connect('tcp://%s:%d' % (hostname, port))\n",
    "\n",
    "    def __del__(self):\n",
    "        \"\"\" deleting should terminate Context / Socket \"\"\"\n",
    "        self.sock.__exit__()\n",
    "        self.ctx.__exit__()\n",
    "\n",
    "    def send_message(self, message):\n",
    "        self.sock.send_string(message)\n",
    "        return self.sock.recv_string()\n",
    "\n",
    "    @verbose\n",
    "    def start_aqcuisition(self):\n",
    "        return self.send_message('StartAcquisition')\n",
    "\n",
    "    @verbose\n",
    "    def stop_aqcuisition(self):\n",
    "        return self.send_message('StopAcquisition')\n",
    "\n",
    "    @verbose\n",
    "    def start_record(self, rec_dir):\n",
    "        \"\"\"\n",
    "        :param rec_dir:     path to store the data to. OpenEphys will create\n",
    "                            another folder like YYYY-MM-DD_HH-MM-SS inside\n",
    "        \"\"\"\n",
    "        if rec_dir is not None:\n",
    "            return self.send_message('StartRecord RecDir=%s' % rec_dir)\n",
    "        return self.send_message('StartRecord')\n",
    "\n",
    "    @verbose\n",
    "    def stop_record(self):\n",
    "        return self.send_message('StopRecord')\n"
   ]
  }
 ],
 "metadata": {
  "kernelspec": {
   "display_name": "Python 3",
   "language": "python",
   "name": "python3"
  },
  "language_info": {
   "codemirror_mode": {
    "name": "ipython",
    "version": 3
   },
   "file_extension": ".py",
   "mimetype": "text/x-python",
   "name": "python",
   "nbconvert_exporter": "python",
   "pygments_lexer": "ipython3",
   "version": "3.8.8"
  }
 },
 "nbformat": 4,
 "nbformat_minor": 5
}
