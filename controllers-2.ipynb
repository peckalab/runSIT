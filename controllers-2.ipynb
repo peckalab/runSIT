{
 "cells": [
  {
   "cell_type": "code",
   "execution_count": 135,
   "metadata": {},
   "outputs": [],
   "source": [
    "import numpy as np\n",
    "import cv2\n",
    "import threading\n",
    "import sounddevice as sd\n",
    "import time, os\n",
    "import matplotlib.pyplot as plt\n",
    "import logging"
   ]
  },
  {
   "cell_type": "code",
   "execution_count": 136,
   "metadata": {},
   "outputs": [],
   "source": [
    "BGR_COLOR = {\n",
    "    'red': (0,0,255),\n",
    "    'green': (127,255,0),\n",
    "    'blue': (255,127,0),\n",
    "    'yellow': (0,127,255),\n",
    "    'black': (0,0,0),\n",
    "    'white': (255,255,255)\n",
    "}"
   ]
  },
  {
   "cell_type": "code",
   "execution_count": 137,
   "metadata": {},
   "outputs": [],
   "source": [
    "logger = logging.getLogger()\n",
    "logger.setLevel(logging.INFO)"
   ]
  },
  {
   "cell_type": "code",
   "execution_count": 138,
   "metadata": {},
   "outputs": [],
   "source": [
    "class FPSTimes:\n",
    "    \n",
    "    def __init__(self, buffer=10000):\n",
    "        self.frame_times = []\n",
    "        self.buffer = buffer\n",
    "        \n",
    "    def count(self):\n",
    "        self.frame_times.append(time.time())\n",
    "        if len(self.frame_times) > self.buffer:\n",
    "            self.frame_times.pop(0)\n",
    "        \n",
    "    def get_time_diffs(self):\n",
    "        return np.diff(np.array(self.frame_times))\n",
    "        \n",
    "    def get_avg_fps(self):\n",
    "        return (1.0/self.get_time_diffs()).mean()"
   ]
  },
  {
   "cell_type": "code",
   "execution_count": 139,
   "metadata": {},
   "outputs": [],
   "source": [
    "class WebcamVideoStream(FPSTimes):\n",
    "    \n",
    "    def __init__(self, src=0, api=None, verbose=True):\n",
    "        super(WebcamVideoStream, self).__init__()\n",
    "        \n",
    "        # preparing a MPEG video stream\n",
    "        self.stream = cv2.VideoCapture(src, api) if api else cv2.VideoCapture(src)\n",
    "        self.stream.set(cv2.CAP_PROP_FOURCC, cv2.VideoWriter_fourcc('M', 'J', 'P', 'G'))\n",
    "        self.stream.set(cv2.CAP_PROP_FRAME_WIDTH, 1024)\n",
    "        self.stream.set(cv2.CAP_PROP_FRAME_HEIGHT, 768)\n",
    "        self.stream.set(cv2.CAP_PROP_FPS, 20)\n",
    "        self.stream.set(cv2.CAP_PROP_FOURCC, cv2.VideoWriter_fourcc('M', 'J', 'P', 'G'))  # cv2.VideoWriter_fourcc('H', '2', '6', '4')\n",
    "\n",
    "        if verbose:\n",
    "            print(\"W:H - %s:%s\" % (self.stream.get(cv2.CAP_PROP_FRAME_WIDTH), self.stream.get(cv2.CAP_PROP_FRAME_HEIGHT)))\n",
    "            print(\"FPS: %s\" % self.stream.get(cv2.CAP_PROP_FPS))\n",
    "            print(self.stream.get(cv2.CAP_PROP_FOURCC))\n",
    "            print(self.stream.get(cv2.CAP_PROP_BACKEND))\n",
    "        \n",
    "        self.verbose = verbose\n",
    "        self.frame = None\n",
    "        self.stopped = False\n",
    "        \n",
    "    def start(self):\n",
    "        self._th = threading.Thread(target=self.update, args=())\n",
    "        self._th.start()\n",
    "\n",
    "    def stop(self):\n",
    "        self.stopped = True\n",
    "        time.sleep(0.5)   # wait until device is released\n",
    "        self._th.join()\n",
    "        \n",
    "        if self.verbose:\n",
    "            print('Camera released')\n",
    "            \n",
    "    def update(self):\n",
    "        while not self.stopped:\n",
    "            (self.grabbed, self.frame) = self.stream.read()\n",
    "            self.count()  # count FPS\n",
    "        self.stream.release()\n",
    "            \n",
    "    def read(self):\n",
    "        return self.frame"
   ]
  },
  {
   "cell_type": "code",
   "execution_count": 140,
   "metadata": {},
   "outputs": [],
   "source": [
    "class VideoWriter:\n",
    "    \n",
    "    def __init__(self, vs):\n",
    "        self.fps = 20.0\n",
    "        self.vs = vs\n",
    "        self.stopped = False\n",
    "        self.frame_counter = []\n",
    "        \n",
    "        fourcc = cv2.VideoWriter_fourcc(*'XVID')\n",
    "        self.out = cv2.VideoWriter('test_video.avi', fourcc, self.fps, (int(vs.stream.get(3)), int(vs.stream.get(4))))\n",
    "        \n",
    "    def start(self):\n",
    "        self.t_start = time.time()\n",
    "        th = threading.Thread(target=self.update, args=())\n",
    "        th.start()\n",
    "        return th\n",
    "    \n",
    "    def stop(self):\n",
    "        self.stopped = True\n",
    "        \n",
    "    def update(self):\n",
    "        while not self.stopped:\n",
    "            if time.time() < self.t_start + 1./self.fps * float(len(self.frame_counter)):\n",
    "                continue\n",
    "\n",
    "            frame = self.vs.read()\n",
    "            if frame is not None:\n",
    "                self.out.write(frame)\n",
    "                self.frame_counter.append(time.time())\n",
    "                if len(self.frame_counter) == 1:\n",
    "                    self.t_start = self.frame_counter[0]\n",
    "        self.out.release()\n",
    "        \n",
    "    def get_frame_diffs(self):\n",
    "        return 1.0/np.diff(np.array(self.frame_counter))\n",
    "        \n",
    "    def get_avg_fps(self):\n",
    "        return self.get_frame_diffs().mean()                "
   ]
  },
  {
   "cell_type": "code",
   "execution_count": 141,
   "metadata": {},
   "outputs": [],
   "source": [
    "class PositionTracker:\n",
    "    \n",
    "    def __init__(self, video_streamer, background_file='background.png'):\n",
    "        self.video_streamer = video_streamer\n",
    "        self.background = cv2.imread(background_file, 1)\n",
    "        self.fps = 20.0\n",
    "        self.x, self.y = None, None\n",
    "        self.contour = []\n",
    "        self.stopped = False\n",
    "        self.frame_counter = []\n",
    "        \n",
    "        self.mask = np.zeros(shape=self.background.shape, dtype=\"uint8\")\n",
    "        cv2.circle(self.mask, (512, 384), 350, BGR_COLOR['white'], -1)\n",
    "        \n",
    "    def start(self):\n",
    "        self.t_start = time.time()\n",
    "        self.th = threading.Thread(target=self.update, args=())\n",
    "        self.th.start()\n",
    "    \n",
    "    def stop(self):\n",
    "        self.stopped = True\n",
    "        self.th.join()\n",
    "        print('Position tracker stopped')\n",
    "        \n",
    "    def update(self):\n",
    "        while not self.stopped:\n",
    "            if time.time() < self.t_start + 1./self.fps * float(len(self.frame_counter)):\n",
    "                continue\n",
    "\n",
    "            frame = self.video_streamer.read()\n",
    "            if frame is not None:\n",
    "                self.detect_position(frame)\n",
    "                self.frame_counter.append(time.time())\n",
    "                if len(self.frame_counter) == 1:\n",
    "                    self.t_start = self.frame_counter[0]\n",
    "                \n",
    "    def get_frame_diffs(self):\n",
    "        return 1.0/np.diff(np.array(self.frame_counter))\n",
    "        \n",
    "    def get_avg_fps(self):\n",
    "        return self.get_frame_diffs().mean()          \n",
    "       \n",
    "    def detect_position(self, frame):\n",
    "        masked_frame = cv2.bitwise_and(src1=frame, src2=self.mask)\n",
    "\n",
    "        # Substracts background from current frame\n",
    "        subject = cv2.subtract(masked_frame, self.background)\n",
    "\n",
    "        # Converts subject to grey scale\n",
    "        subject_gray = cv2.cvtColor(subject, cv2.COLOR_BGR2GRAY)\n",
    "\n",
    "        # Applies blur and thresholding to the subject\n",
    "        kernel_size = (25,25)\n",
    "        frame_blur = cv2.GaussianBlur(subject_gray, kernel_size, 0)\n",
    "        _, thresh = cv2.threshold(frame_blur, 40, 255, cv2.THRESH_BINARY)\n",
    "\n",
    "        # Finds contours and selects the contour with the largest area\n",
    "        contours, hierarchy = cv2.findContours(thresh.copy(), cv2.RETR_TREE, cv2.CHAIN_APPROX_NONE)\n",
    "\n",
    "        if len(contours) == 0:\n",
    "            return\n",
    "        contour = contours[np.argmax(list(map(cv2.contourArea, contours)))]\n",
    "        M = cv2.moments(contour)\n",
    "        if (M['m00'] == 0):\n",
    "            return\n",
    "\n",
    "        self.x = int(M['m10'] / M['m00'])\n",
    "        self.y = int(M['m01'] / M['m00'])\n",
    "        self.contour = contour"
   ]
  },
  {
   "cell_type": "code",
   "execution_count": 142,
   "metadata": {},
   "outputs": [],
   "source": [
    "class SoundController:\n",
    "    \n",
    "    def __init__(self):\n",
    "        #sd.default.samplerate = 44100\n",
    "        #sd.default.device = 20  # set the device id\n",
    "        self.stopped = False\n",
    "        self.frame_counter = []\n",
    "        \n",
    "        self.tone1 = SoundController.get_pure_tone(440, 0.05, 44100) * 0.5\n",
    "        self.tone2 = np.zeros(len(self.tone1), dtype='float32')\n",
    "        self.tone_stereo1 = np.column_stack((self.tone1, self.tone1))\n",
    "        self.tone_stereo2 = np.column_stack((self.tone2, self.tone2))\n",
    "        \n",
    "        self.stream = sd.OutputStream(samplerate=44100, channels=2, dtype='float32')\n",
    "\n",
    "    @staticmethod\n",
    "    def get_pure_tone(freq, duration, sample_rate=44100):\n",
    "        x = np.linspace(0, duration * freq * 2*np.pi, int(duration*sample_rate), dtype=np.float32)\n",
    "        return np.sin(x)\n",
    "\n",
    "    def start(self):\n",
    "        self.stream.start()\n",
    "        self.last_chirp = time.time()\n",
    "        th = threading.Thread(target=self.update, args=())\n",
    "        th.start()\n",
    "        return th\n",
    "    \n",
    "    def stop(self):\n",
    "        self.stopped = True\n",
    "        \n",
    "    def update(self):\n",
    "        while not self.stopped:\n",
    "            t0 = time.time()\n",
    "            if t0 > self.last_chirp + 0.25:\n",
    "                self.last_chirp = t0\n",
    "                #sd.play(self.tone)  # has underrun errors\n",
    "                self.frame_counter.append(time.time())\n",
    "                self.stream.write(self.tone_stereo1)\n",
    "            #else:\n",
    "            #    self.stream.write(self.tone_stereo2)\n",
    "        self.stream.stop()                \n",
    "                \n",
    "    def get_frame_diffs(self):\n",
    "        return 1.0/np.diff(np.array(self.frame_counter))\n",
    "        \n",
    "    def get_avg_fps(self):\n",
    "        return self.get_frame_diffs().mean()                "
   ]
  },
  {
   "cell_type": "code",
   "execution_count": 143,
   "metadata": {},
   "outputs": [],
   "source": [
    "# TODO update FPS counters"
   ]
  },
  {
   "cell_type": "code",
   "execution_count": 144,
   "metadata": {},
   "outputs": [],
   "source": [
    "# check camera output formats with FFMPEG\n",
    "# https://stackoverflow.com/questions/15301608/how-to-query-a-webcams-output-formats\n",
    "#\n",
    "# ffmpeg -list_devices true -f dshow -i dummy\n",
    "# ffmpeg -list_options true -f dshow -i video=\"HD USB Camera\""
   ]
  },
  {
   "cell_type": "code",
   "execution_count": 145,
   "metadata": {
    "scrolled": false
   },
   "outputs": [
    {
     "name": "stdout",
     "output_type": "stream",
     "text": [
      "W:H - 960.0:720.0\n",
      "FPS: 20.0\n",
      "1196444237.0\n",
      "200.0\n"
     ]
    },
    {
     "name": "stderr",
     "output_type": "stream",
     "text": [
      "ALSA lib pcm.c:8526:(snd_pcm_recover) underrun occurred\n",
      "ALSA lib pcm.c:8526:(snd_pcm_recover) underrun occurred\n",
      "ALSA lib pcm.c:8526:(snd_pcm_recover) underrun occurred\n",
      "ALSA lib pcm.c:8526:(snd_pcm_recover) underrun occurred\n",
      "ALSA lib pcm.c:8526:(snd_pcm_recover) underrun occurred\n",
      "ALSA lib pcm.c:8526:(snd_pcm_recover) underrun occurred\n",
      "ALSA lib pcm.c:8526:(snd_pcm_recover) underrun occurred\n"
     ]
    },
    {
     "name": "stdout",
     "output_type": "stream",
     "text": [
      "Windows destroyed\n"
     ]
    },
    {
     "name": "stderr",
     "output_type": "stream",
     "text": [
      "ALSA lib pcm.c:8526:(snd_pcm_recover) underrun occurred\n",
      "ALSA lib pcm.c:8526:(snd_pcm_recover) underrun occurred\n"
     ]
    },
    {
     "name": "stdout",
     "output_type": "stream",
     "text": [
      "Camera released\n",
      "Position tracker stopped\n",
      "Sound stopped\n",
      "Writer stopped\n",
      "Threads joined\n"
     ]
    }
   ],
   "source": [
    "# https://stackoverflow.com/questions/39308664/opencv-cant-set-mjpg-compression-for-usb-camera\n",
    "#vs = WebcamVideoStream(src=0, api=cv2.CAP_DSHOW)  # for windows usb camera use api=cv2.CAP_DSHOW\n",
    "vs = WebcamVideoStream(src=0)\n",
    "vs.start()\n",
    "\n",
    "vw = VideoWriter(vs)\n",
    "t2 = vw.start()\n",
    "\n",
    "pt = PositionTracker(vs, background_file=os.path.join('assets', 'background.png'))\n",
    "t3 = pt.start()\n",
    "\n",
    "sc = SoundController()\n",
    "t4 = sc.start()\n",
    "\n",
    "\n",
    "frame_counter = []\n",
    "try:\n",
    "    while True:\n",
    "        frame_counter.append(time.time())\n",
    "        \n",
    "        frame = vs.read()\n",
    "        if frame is not None:\n",
    "            #if pt.x is not None:\n",
    "            #    cv2.circle(frame, (pt.x, pt.y), 3, BGR_COLOR['yellow'], -1)\n",
    "            cv2.imshow(\"Experiment\", frame)\n",
    "\n",
    "        k = cv2.waitKey(33)\n",
    "        if k == ord('q'):\n",
    "            break\n",
    "\n",
    "finally:\n",
    "    cv2.destroyAllWindows()\n",
    "    print('Windows destroyed') \n",
    "    \n",
    "    vs.stop()\n",
    "    pt.stop()\n",
    "\n",
    "    sc.stop()\n",
    "    print('Sound stopped')\n",
    "    vw.stop()\n",
    "    print('Writer stopped')\n",
    "    \n",
    "    # TODO - try to join the threads inside controller stop\n",
    "    for t in [t2, t4]:\n",
    "        t.join()\n",
    "        \n",
    "    print('Threads joined')"
   ]
  },
  {
   "cell_type": "markdown",
   "metadata": {},
   "source": [
    "### Profiling FPS"
   ]
  },
  {
   "cell_type": "code",
   "execution_count": 146,
   "metadata": {},
   "outputs": [
    {
     "data": {
      "text/plain": [
       "(23.167932820433215, 21.024518374869405, 11.97076275469506, 3.949874334411491)"
      ]
     },
     "execution_count": 146,
     "metadata": {},
     "output_type": "execute_result"
    }
   ],
   "source": [
    "vs.get_avg_fps(), vw.get_avg_fps(), pt.get_avg_fps(), sc.get_avg_fps()"
   ]
  },
  {
   "cell_type": "code",
   "execution_count": 147,
   "metadata": {},
   "outputs": [
    {
     "data": {
      "image/png": "[encoded data removed]",
      "text/plain": [
       "<Figure size 432x288 with 1 Axes>"
      ]
     },
     "metadata": {
      "needs_background": "light"
     },
     "output_type": "display_data"
    }
   ],
   "source": [
    "_ = plt.hist(sc.get_frame_diffs(), 50)"
   ]
  },
  {
   "cell_type": "code",
   "execution_count": 148,
   "metadata": {},
   "outputs": [
    {
     "data": {
      "text/plain": [
       "[<matplotlib.lines.Line2D at 0x7f97612ab220>]"
      ]
     },
     "execution_count": 148,
     "metadata": {},
     "output_type": "execute_result"
    },
    {
     "data": {
      "image/png": "[encoded data removed]",
      "text/plain": [
       "<Figure size 432x288 with 1 Axes>"
      ]
     },
     "metadata": {
      "needs_background": "light"
     },
     "output_type": "display_data"
    }
   ],
   "source": [
    "#plt.plot(sc.get_frame_diffs())\n",
    "plt.plot(np.diff(np.array(sc.frame_counter)[5:]) )"
   ]
  },
  {
   "cell_type": "code",
   "execution_count": 149,
   "metadata": {},
   "outputs": [
    {
     "data": {
      "text/plain": [
       "array([3.71778442, 3.98638606, 4.00001144, 3.99992371, 3.8960678 ,\n",
       "       4.00008011, 3.9494202 , 3.99918382, 4.00001144])"
      ]
     },
     "execution_count": 149,
     "metadata": {},
     "output_type": "execute_result"
    }
   ],
   "source": [
    "sc.get_frame_diffs()"
   ]
  },
  {
   "cell_type": "code",
   "execution_count": null,
   "metadata": {},
   "outputs": [],
   "source": []
  }
 ],
 "metadata": {
  "kernelspec": {
   "display_name": "Python 3 (ipykernel)",
   "language": "python",
   "name": "python3"
  },
  "language_info": {
   "codemirror_mode": {
    "name": "ipython",
    "version": 3
   },
   "file_extension": ".py",
   "mimetype": "text/x-python",
   "name": "python",
   "nbconvert_exporter": "python",
   "pygments_lexer": "ipython3",
   "version": "3.8.5"
  }
 },
 "nbformat": 4,
 "nbformat_minor": 4
}
